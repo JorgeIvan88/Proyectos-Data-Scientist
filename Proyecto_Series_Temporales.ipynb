{
 "cells": [
  {
   "cell_type": "markdown",
   "metadata": {},
   "source": [
    "# Hola Jorge!\n",
    "\n",
    "Mi nombre es David Bautista, soy code reviewer de Tripleten y hoy tengo el gusto de revisar tu proyecto.\n",
    "\n",
    "Cuando vea un error laa primera vez, lo señalaré. Deberás encontrarlo y arreglarlo. La intención es que te prepares para un espacio real de trabajo. En un trabajo, el líder de tu equipo hará lo mismo. Si no puedes solucionar el error, te daré más información en la próxima ocasión.\n",
    "\n",
    "Encontrarás mis comentarios más abajo - por favor, no los muevas, no los modifiques ni los borres.\n",
    "\n",
    "¿Cómo lo voy a hacer? Voy a leer detenidamente cada una de las implementaciones que has llevado a cabo para cumplir con lo solicitado. Verás los comentarios de esta forma:\n",
    "\n",
    "<div class=\"alert alert-block alert-success\">\n",
    "<b>Comentario del revisor</b> <a class=\"tocSkip\"></a>\n",
    "    \n",
    "Si todo está perfecto.\n",
    "</div>\n",
    "\n",
    "\n",
    "<div class=\"alert alert-block alert-warning\">\n",
    "<b>Comentario del revisor</b> <a class=\"tocSkip\"></a>\n",
    "    \n",
    "Si tu código está bien pero se puede mejorar o hay algún detalle que le hace falta.\n",
    "</div>\n",
    "\n",
    "\n",
    "<div class=\"alert alert-block alert-danger\">\n",
    "    \n",
    "<b>Comentario del revisor</b> <a class=\"tocSkip\"></a>\n",
    "    \n",
    "Si de pronto hace falta algo o existe algún problema con tu código o conclusiones.\n",
    "</div>\n",
    "\n",
    "\n",
    "Puedes responderme de esta forma: \n",
    "\n",
    "<div class=\"alert alert-block alert-info\">\n",
    "<b>Respuesta del estudiante</b> <a class=\"tocSkip\"></a>\n",
    "</div>\n",
    "\n",
    "¡Empecemos!"
   ]
  },
  {
   "cell_type": "markdown",
   "metadata": {},
   "source": [
    "<div class=\"alert alert-block alert-success\">\n",
    "<b>Comentario del revisor</b> <a class=\"tocSkip\"></a>\n",
    "    \n",
    "# Comentario General #2\n",
    "    \n",
    "Hola, Jorge, te felicito por la culminación del proyecto. Muy buen trabajo."
   ]
  },
  {
   "cell_type": "markdown",
   "metadata": {},
   "source": [
    "# Descripción del proyecto\n",
    "\n",
    "La compañía Sweet Lift Taxi ha recopilado datos históricos sobre pedidos de taxis en los aeropuertos. Para atraer a más conductores durante las horas pico, necesitamos predecir la cantidad de pedidos de taxis para la próxima hora. Construye un modelo para dicha predicción.\n",
    "\n",
    "La métrica RECM en el conjunto de prueba no debe ser superior a 48.\n",
    "\n",
    "## Instrucciones del proyecto.\n",
    "\n",
    "1. Descarga los datos y haz el remuestreo por una hora.\n",
    "2. Analiza los datos\n",
    "3. Entrena diferentes modelos con diferentes hiperparámetros. La muestra de prueba debe ser el 10% del conjunto de datos inicial.\n",
    "4. Prueba los datos usando la muestra de prueba y proporciona una conclusión.\n",
    "\n",
    "## Descripción de los datos\n",
    "\n",
    "Los datos se almacenan en el archivo `taxi.csv`. \t\n",
    "El número de pedidos está en la columna `num_orders`."
   ]
  },
  {
   "cell_type": "markdown",
   "metadata": {},
   "source": [
    "<div class=\"alert alert-block alert-success\">\n",
    "<b>Comentario del revisor</b> <a class=\"tocSkip\"></a>\n",
    "    \n",
    "Buen trabajo con la introducción proyecto.\n",
    " </div>"
   ]
  },
  {
   "cell_type": "markdown",
   "metadata": {},
   "source": [
    "## Preparación"
   ]
  },
  {
   "cell_type": "code",
   "execution_count": 1,
   "metadata": {},
   "outputs": [],
   "source": [
    "#Importar librerias\n",
    "import pandas as pd\n",
    "import numpy as np\n",
    "import matplotlib.pyplot as plt\n",
    "from sklearn.preprocessing import StandardScaler\n",
    "from statsmodels.tsa.seasonal import seasonal_decompose\n",
    "from sklearn.model_selection import train_test_split\n",
    "from sklearn.linear_model import LinearRegression\n",
    "from sklearn.tree import DecisionTreeRegressor\n",
    "from sklearn.ensemble import RandomForestRegressor\n",
    "from sklearn.metrics import mean_squared_error\n",
    "import lightgbm as lgb\n",
    "import catboost as cb\n"
   ]
  },
  {
   "cell_type": "markdown",
   "metadata": {},
   "source": [
    "<div class=\"alert alert-block alert-success\">\n",
    "<b>Comentario del revisor</b> <a class=\"tocSkip\"></a>\n",
    "    \n",
    "Buen trabajo importando las librerías necesarias para el desarrollo del proyecto.</div>"
   ]
  },
  {
   "cell_type": "markdown",
   "metadata": {},
   "source": [
    "Se importaron las librerías necesarias, incluyendo pandas, numpy, matplotlib, scikit-learn, statsmodels, lightgbm y catboost."
   ]
  },
  {
   "cell_type": "code",
   "execution_count": 2,
   "metadata": {},
   "outputs": [],
   "source": [
    "#Cargar el archivo CSV\n",
    "data = pd.read_csv('/datasets/taxi.csv')"
   ]
  },
  {
   "cell_type": "markdown",
   "metadata": {},
   "source": [
    "<div class=\"alert alert-block alert-success\">\n",
    "<b>Comentario del revisor</b> <a class=\"tocSkip\"></a>\n",
    "    \n",
    "Buen trabajo con la carga del dataset.</div> "
   ]
  },
  {
   "cell_type": "markdown",
   "metadata": {},
   "source": [
    "Se cargó el archivo CSV llamado 'taxi.csv' en un DataFrame llamado 'data'."
   ]
  },
  {
   "cell_type": "code",
   "execution_count": 3,
   "metadata": {},
   "outputs": [
    {
     "data": {
      "text/html": [
       "<div>\n",
       "<style scoped>\n",
       "    .dataframe tbody tr th:only-of-type {\n",
       "        vertical-align: middle;\n",
       "    }\n",
       "\n",
       "    .dataframe tbody tr th {\n",
       "        vertical-align: top;\n",
       "    }\n",
       "\n",
       "    .dataframe thead th {\n",
       "        text-align: right;\n",
       "    }\n",
       "</style>\n",
       "<table border=\"1\" class=\"dataframe\">\n",
       "  <thead>\n",
       "    <tr style=\"text-align: right;\">\n",
       "      <th></th>\n",
       "      <th>datetime</th>\n",
       "      <th>num_orders</th>\n",
       "    </tr>\n",
       "  </thead>\n",
       "  <tbody>\n",
       "    <tr>\n",
       "      <th>0</th>\n",
       "      <td>2018-03-01 00:00:00</td>\n",
       "      <td>9</td>\n",
       "    </tr>\n",
       "    <tr>\n",
       "      <th>1</th>\n",
       "      <td>2018-03-01 00:10:00</td>\n",
       "      <td>14</td>\n",
       "    </tr>\n",
       "    <tr>\n",
       "      <th>2</th>\n",
       "      <td>2018-03-01 00:20:00</td>\n",
       "      <td>28</td>\n",
       "    </tr>\n",
       "    <tr>\n",
       "      <th>3</th>\n",
       "      <td>2018-03-01 00:30:00</td>\n",
       "      <td>20</td>\n",
       "    </tr>\n",
       "    <tr>\n",
       "      <th>4</th>\n",
       "      <td>2018-03-01 00:40:00</td>\n",
       "      <td>32</td>\n",
       "    </tr>\n",
       "  </tbody>\n",
       "</table>\n",
       "</div>"
      ],
      "text/plain": [
       "              datetime  num_orders\n",
       "0  2018-03-01 00:00:00           9\n",
       "1  2018-03-01 00:10:00          14\n",
       "2  2018-03-01 00:20:00          28\n",
       "3  2018-03-01 00:30:00          20\n",
       "4  2018-03-01 00:40:00          32"
      ]
     },
     "execution_count": 3,
     "metadata": {},
     "output_type": "execute_result"
    }
   ],
   "source": [
    "#Mostrar las primeras filas del DataFrame\n",
    "data.head()"
   ]
  },
  {
   "cell_type": "markdown",
   "metadata": {},
   "source": [
    "Se utilizó el método `head()` para mostrar las primeras filas del DataFrame 'data', lo que permite echar un vistazo inicial a los datos."
   ]
  },
  {
   "cell_type": "code",
   "execution_count": 4,
   "metadata": {},
   "outputs": [
    {
     "name": "stdout",
     "output_type": "stream",
     "text": [
      "<class 'pandas.core.frame.DataFrame'>\n",
      "RangeIndex: 26496 entries, 0 to 26495\n",
      "Data columns (total 2 columns):\n",
      " #   Column      Non-Null Count  Dtype \n",
      "---  ------      --------------  ----- \n",
      " 0   datetime    26496 non-null  object\n",
      " 1   num_orders  26496 non-null  int64 \n",
      "dtypes: int64(1), object(1)\n",
      "memory usage: 414.1+ KB\n"
     ]
    }
   ],
   "source": [
    "#Obtener información general sobre el DataFrame\n",
    "data.info()"
   ]
  },
  {
   "cell_type": "markdown",
   "metadata": {},
   "source": [
    "Se utilizó el método info() para obtener información general sobre el DataFrame 'data', incluyendo el número de filas y columnas, los tipos de datos y la cantidad de valores no nulos en cada columna."
   ]
  },
  {
   "cell_type": "code",
   "execution_count": 5,
   "metadata": {},
   "outputs": [
    {
     "name": "stdout",
     "output_type": "stream",
     "text": [
      "Valores nulos en el DataFrame:\n",
      "datetime      0\n",
      "num_orders    0\n",
      "dtype: int64\n"
     ]
    }
   ],
   "source": [
    "#Revisar si hay valores nulos en el DataFrame\n",
    "print(\"Valores nulos en el DataFrame:\")\n",
    "print(data.isnull().sum())"
   ]
  },
  {
   "cell_type": "markdown",
   "metadata": {},
   "source": [
    "Se utilizó el método `isnull().sum()` para contar la cantidad de valores nulos en cada columna del DataFrame 'data'. No se encontraron valores nulos."
   ]
  },
  {
   "cell_type": "code",
   "execution_count": 6,
   "metadata": {},
   "outputs": [
    {
     "data": {
      "text/html": [
       "<div>\n",
       "<style scoped>\n",
       "    .dataframe tbody tr th:only-of-type {\n",
       "        vertical-align: middle;\n",
       "    }\n",
       "\n",
       "    .dataframe tbody tr th {\n",
       "        vertical-align: top;\n",
       "    }\n",
       "\n",
       "    .dataframe thead th {\n",
       "        text-align: right;\n",
       "    }\n",
       "</style>\n",
       "<table border=\"1\" class=\"dataframe\">\n",
       "  <thead>\n",
       "    <tr style=\"text-align: right;\">\n",
       "      <th></th>\n",
       "      <th>num_orders</th>\n",
       "    </tr>\n",
       "  </thead>\n",
       "  <tbody>\n",
       "    <tr>\n",
       "      <th>count</th>\n",
       "      <td>26496.000000</td>\n",
       "    </tr>\n",
       "    <tr>\n",
       "      <th>mean</th>\n",
       "      <td>14.070463</td>\n",
       "    </tr>\n",
       "    <tr>\n",
       "      <th>std</th>\n",
       "      <td>9.211330</td>\n",
       "    </tr>\n",
       "    <tr>\n",
       "      <th>min</th>\n",
       "      <td>0.000000</td>\n",
       "    </tr>\n",
       "    <tr>\n",
       "      <th>25%</th>\n",
       "      <td>8.000000</td>\n",
       "    </tr>\n",
       "    <tr>\n",
       "      <th>50%</th>\n",
       "      <td>13.000000</td>\n",
       "    </tr>\n",
       "    <tr>\n",
       "      <th>75%</th>\n",
       "      <td>19.000000</td>\n",
       "    </tr>\n",
       "    <tr>\n",
       "      <th>max</th>\n",
       "      <td>119.000000</td>\n",
       "    </tr>\n",
       "  </tbody>\n",
       "</table>\n",
       "</div>"
      ],
      "text/plain": [
       "         num_orders\n",
       "count  26496.000000\n",
       "mean      14.070463\n",
       "std        9.211330\n",
       "min        0.000000\n",
       "25%        8.000000\n",
       "50%       13.000000\n",
       "75%       19.000000\n",
       "max      119.000000"
      ]
     },
     "execution_count": 6,
     "metadata": {},
     "output_type": "execute_result"
    }
   ],
   "source": [
    "#Descripción estadística de las columnas numéricas\n",
    "data.describe()"
   ]
  },
  {
   "cell_type": "markdown",
   "metadata": {},
   "source": [
    "Se utilizó el método `describe()` para obtener estadísticas descriptivas de la columna 'num_orders', que muestra el número de órdenes de taxi en cada período de tiempo."
   ]
  },
  {
   "cell_type": "code",
   "execution_count": 7,
   "metadata": {},
   "outputs": [],
   "source": [
    "#Establecer el índice igual a la columna datetime\n",
    "data.set_index('datetime', inplace=True)"
   ]
  },
  {
   "cell_type": "markdown",
   "metadata": {},
   "source": [
    "Se utilizó el método `set_index()` para establecer la columna 'datetime' como el índice del DataFrame 'data'.\n"
   ]
  },
  {
   "cell_type": "code",
   "execution_count": 8,
   "metadata": {},
   "outputs": [],
   "source": [
    "#Convertir el índice a un objeto de fecha y hora\n",
    "data.index = pd.to_datetime(data.index)"
   ]
  },
  {
   "cell_type": "markdown",
   "metadata": {},
   "source": [
    " Se utilizó el método `pd.to_datetime()` para convertir el índice del DataFrame 'data' en un objeto de fecha y hora."
   ]
  },
  {
   "cell_type": "code",
   "execution_count": 9,
   "metadata": {},
   "outputs": [
    {
     "name": "stdout",
     "output_type": "stream",
     "text": [
      "Las fechas y horas están en orden cronológico: True\n"
     ]
    }
   ],
   "source": [
    "#Verificar si las fechas y horas están en orden cronológico\n",
    "orden_cro = data.index.is_monotonic\n",
    "print(\"Las fechas y horas están en orden cronológico:\", orden_cro)"
   ]
  },
  {
   "cell_type": "markdown",
   "metadata": {},
   "source": [
    " Se utilizó el atributo `is_monotonic` del índice para verificar si las fechas y horas están en orden cronológico.\n"
   ]
  },
  {
   "cell_type": "code",
   "execution_count": 10,
   "metadata": {},
   "outputs": [
    {
     "data": {
      "image/png": "[encoded data removed]",
      "text/plain": [
       "<Figure size 1000x500 with 1 Axes>"
      ]
     },
     "metadata": {},
     "output_type": "display_data"
    }
   ],
   "source": [
    "#Trazar el gráfico de series temporales\n",
    "data.plot(color='red', figsize=(10, 5))\n",
    "plt.title('Número de órdenes de taxi a lo largo del tiempo')\n",
    "plt.xlabel('Fecha y hora')\n",
    "plt.ylabel('Número de órdenes')\n",
    "plt.show()"
   ]
  },
  {
   "cell_type": "markdown",
   "metadata": {},
   "source": [
    " Se utilizó el método `plot()` para trazar el número de órdenes de taxi a lo largo del tiempo.\n"
   ]
  },
  {
   "cell_type": "code",
   "execution_count": 11,
   "metadata": {},
   "outputs": [
    {
     "name": "stdout",
     "output_type": "stream",
     "text": [
      "<class 'pandas.core.frame.DataFrame'>\n",
      "DatetimeIndex: 26496 entries, 2018-03-01 00:00:00 to 2018-08-31 23:50:00\n",
      "Data columns (total 1 columns):\n",
      " #   Column      Non-Null Count  Dtype\n",
      "---  ------      --------------  -----\n",
      " 0   num_orders  26496 non-null  int64\n",
      "dtypes: int64(1)\n",
      "memory usage: 414.0 KB\n"
     ]
    }
   ],
   "source": [
    "#Volver a obtener información general sobre el DataFrame\n",
    "data.info()"
   ]
  },
  {
   "cell_type": "markdown",
   "metadata": {},
   "source": [
    "Se utilizó el método `info()` nuevamente para obtener información actualizada sobre el DataFrame después de los cambios realizados."
   ]
  },
  {
   "cell_type": "markdown",
   "metadata": {},
   "source": [
    "<div class=\"alert alert-block alert-success\">\n",
    "<b>Comentario del revisor</b> <a class=\"tocSkip\"></a>\n",
    "\n",
    "Muy buen trabajo con esta exploración inicial de los datos, Jorge. Utilizas componentes útiles e importantes de análisis.  </div>"
   ]
  },
  {
   "cell_type": "markdown",
   "metadata": {},
   "source": [
    "En resumen, se realizaron los siguentes pasos:\n",
    "\n",
    "1. **Importar librerías**\n",
    "\n",
    "2. **Cargar el archivo CSV**\n",
    "\n",
    "3. **Mostrar las primeras filas del DataFrame**\n",
    "\n",
    "4. **Obtener información general sobre el DataFrame**\n",
    "\n",
    "5. **Revisar si hay valores nulos en el DataFrame**\n",
    "\n",
    "6. **Descripción estadística de las columnas numéricas**\n",
    "\n",
    "7. **Establecer el índice igual a la columna datetime**\n",
    "\n",
    "8. **Convertir el índice a un objeto de fecha y hora**\n",
    "\n",
    "9. **Verificar si las fechas y horas están en orden cronológico**\n",
    "10. **Trazar el gráfico de series temporales**\n",
    "\n",
    "11. **Volver a obtener información general sobre el DataFrame**\n",
    "\n",
    "Después de realizar los pasos de preparación de datos, podemos observar que los datos están limpios, bien estructurados, completos y listos para ser utilizados en análisis.  La columna 'datetime' se convirtió en el índice del DataFrame y se transformó en un objeto de fecha y hora, lo que facilitará el análisis y la visualización de series temporales.  Verificamos que las fechas y horas estén en orden cronológico ya que es importante para el análisis de series temporales. Se realizo una exploración visual mediante el grafico para visualizar los patrones en el número de órdenes de taxi a lo largo del tiempo."
   ]
  },
  {
   "cell_type": "markdown",
   "metadata": {},
   "source": [
    "<div class=\"alert alert-block alert-success\">\n",
    "<b>Comentario del revisor</b> <a class=\"tocSkip\"></a>\n",
    "\n",
    "Perfecto, muy buen trabajo con este resumen de la sección. Excelente trabajo. </div>"
   ]
  },
  {
   "cell_type": "markdown",
   "metadata": {},
   "source": [
    "## Análisis"
   ]
  },
  {
   "cell_type": "code",
   "execution_count": 12,
   "metadata": {},
   "outputs": [
    {
     "data": {
      "image/png": "[encoded data removed]",
      "text/plain": [
       "<Figure size 1000x500 with 1 Axes>"
      ]
     },
     "metadata": {},
     "output_type": "display_data"
    }
   ],
   "source": [
    "#Remuestrear los datos por hora y sumar el número de órdenes en cada hora\n",
    "data = data.resample('1H').sum()\n",
    "data.plot(color='red', figsize=(10, 5))\n",
    "plt.title('Número de órdenes de taxi a lo largo del tiempo')\n",
    "plt.xlabel('Fecha y hora')\n",
    "plt.ylabel('Número de órdenes')\n",
    "plt.show()"
   ]
  },
  {
   "cell_type": "markdown",
   "metadata": {},
   "source": [
    "Se realizo un remuestreo por una hora y se sumó el número de órdenes en cada hora. Se trazó un gráfico de la serie temporal remuestreada para visualizar cómo varía el número de órdenes a lo largo del tiempo"
   ]
  },
  {
   "cell_type": "code",
   "execution_count": 13,
   "metadata": {
    "scrolled": true
   },
   "outputs": [
    {
     "data": {
      "text/html": [
       "<div>\n",
       "<style scoped>\n",
       "    .dataframe tbody tr th:only-of-type {\n",
       "        vertical-align: middle;\n",
       "    }\n",
       "\n",
       "    .dataframe tbody tr th {\n",
       "        vertical-align: top;\n",
       "    }\n",
       "\n",
       "    .dataframe thead th {\n",
       "        text-align: right;\n",
       "    }\n",
       "</style>\n",
       "<table border=\"1\" class=\"dataframe\">\n",
       "  <thead>\n",
       "    <tr style=\"text-align: right;\">\n",
       "      <th></th>\n",
       "      <th>num_orders</th>\n",
       "    </tr>\n",
       "    <tr>\n",
       "      <th>datetime</th>\n",
       "      <th></th>\n",
       "    </tr>\n",
       "  </thead>\n",
       "  <tbody>\n",
       "    <tr>\n",
       "      <th>2018-03-01 00:00:00</th>\n",
       "      <td>124</td>\n",
       "    </tr>\n",
       "    <tr>\n",
       "      <th>2018-03-01 01:00:00</th>\n",
       "      <td>85</td>\n",
       "    </tr>\n",
       "    <tr>\n",
       "      <th>2018-03-01 02:00:00</th>\n",
       "      <td>71</td>\n",
       "    </tr>\n",
       "    <tr>\n",
       "      <th>2018-03-01 03:00:00</th>\n",
       "      <td>66</td>\n",
       "    </tr>\n",
       "    <tr>\n",
       "      <th>2018-03-01 04:00:00</th>\n",
       "      <td>43</td>\n",
       "    </tr>\n",
       "    <tr>\n",
       "      <th>2018-03-01 05:00:00</th>\n",
       "      <td>6</td>\n",
       "    </tr>\n",
       "    <tr>\n",
       "      <th>2018-03-01 06:00:00</th>\n",
       "      <td>12</td>\n",
       "    </tr>\n",
       "    <tr>\n",
       "      <th>2018-03-01 07:00:00</th>\n",
       "      <td>15</td>\n",
       "    </tr>\n",
       "    <tr>\n",
       "      <th>2018-03-01 08:00:00</th>\n",
       "      <td>34</td>\n",
       "    </tr>\n",
       "    <tr>\n",
       "      <th>2018-03-01 09:00:00</th>\n",
       "      <td>69</td>\n",
       "    </tr>\n",
       "  </tbody>\n",
       "</table>\n",
       "</div>"
      ],
      "text/plain": [
       "                     num_orders\n",
       "datetime                       \n",
       "2018-03-01 00:00:00         124\n",
       "2018-03-01 01:00:00          85\n",
       "2018-03-01 02:00:00          71\n",
       "2018-03-01 03:00:00          66\n",
       "2018-03-01 04:00:00          43\n",
       "2018-03-01 05:00:00           6\n",
       "2018-03-01 06:00:00          12\n",
       "2018-03-01 07:00:00          15\n",
       "2018-03-01 08:00:00          34\n",
       "2018-03-01 09:00:00          69"
      ]
     },
     "execution_count": 13,
     "metadata": {},
     "output_type": "execute_result"
    }
   ],
   "source": [
    "#Volver a mostrar las primeras filas del DataFrame\n",
    "data.head(10)"
   ]
  },
  {
   "cell_type": "markdown",
   "metadata": {},
   "source": [
    "Se utilizó el método `head()` para mostrar las primeras filas del DataFrame remuestreado."
   ]
  },
  {
   "cell_type": "code",
   "execution_count": 14,
   "metadata": {},
   "outputs": [
    {
     "data": {
      "image/png": "[encoded data removed]",
      "text/plain": [
       "<Figure size 1000x500 with 1 Axes>"
      ]
     },
     "metadata": {},
     "output_type": "display_data"
    }
   ],
   "source": [
    "# Calcular la media móvil con una ventana de tamaño 6\n",
    "media_movil_6h = data['num_orders'].rolling(window=6).mean()\n",
    "\n",
    "plt.figure(figsize=(10, 5))\n",
    "plt.plot(data.index, data['num_orders'], label='Número de órdenes original', color='blue')\n",
    "plt.plot(data.index, media_movil_6h, label='Media móvil (ventana=6 horas)', color='red', linestyle='--')\n",
    "plt.title('Serie temporal original y medias móviles')\n",
    "plt.xlabel('Fecha y hora')\n",
    "plt.ylabel('Número de órdenes')\n",
    "plt.legend()\n",
    "plt.show()"
   ]
  },
  {
   "cell_type": "markdown",
   "metadata": {},
   "source": [
    "Se calculó la media móvil con una ventana de tamaño de 6 horas. Se trazaron la serie temporal original y la media móvil calculada en el mismo gráfico para compararlas."
   ]
  },
  {
   "cell_type": "code",
   "execution_count": 15,
   "metadata": {},
   "outputs": [
    {
     "data": {
      "image/png": "[encoded data removed]",
      "text/plain": [
       "<Figure size 800x800 with 3 Axes>"
      ]
     },
     "metadata": {},
     "output_type": "display_data"
    }
   ],
   "source": [
    "#Analizar las tendencias y la estacionalidad\n",
    "decomposed = seasonal_decompose(data)\n",
    "\n",
    "# Trazar las componentes\n",
    "plt.figure(figsize=(8, 8))\n",
    "plt.subplot(311)\n",
    "decomposed.trend.plot(ax=plt.gca(), color='red')\n",
    "plt.title('Tendencia')\n",
    "plt.subplot(312)\n",
    "decomposed.seasonal.plot(ax=plt.gca(), color='red')\n",
    "plt.title('Estacionalidad')\n",
    "plt.subplot(313)\n",
    "decomposed.resid.plot(ax=plt.gca(), color='red')\n",
    "plt.title('Residuales')\n",
    "plt.tight_layout()\n",
    "plt.show()"
   ]
  },
  {
   "cell_type": "markdown",
   "metadata": {},
   "source": [
    "Se utilizó la descomposición estacional para separar la serie temporal en sus componentes de tendencia, estacionalidad y residuales. Esto nos ayuda a entender mejor los patrones de la serie temporal."
   ]
  },
  {
   "cell_type": "code",
   "execution_count": 16,
   "metadata": {},
   "outputs": [
    {
     "data": {
      "text/html": [
       "<div>\n",
       "<style scoped>\n",
       "    .dataframe tbody tr th:only-of-type {\n",
       "        vertical-align: middle;\n",
       "    }\n",
       "\n",
       "    .dataframe tbody tr th {\n",
       "        vertical-align: top;\n",
       "    }\n",
       "\n",
       "    .dataframe thead th {\n",
       "        text-align: right;\n",
       "    }\n",
       "</style>\n",
       "<table border=\"1\" class=\"dataframe\">\n",
       "  <thead>\n",
       "    <tr style=\"text-align: right;\">\n",
       "      <th></th>\n",
       "      <th>num_orders</th>\n",
       "    </tr>\n",
       "    <tr>\n",
       "      <th>datetime</th>\n",
       "      <th></th>\n",
       "    </tr>\n",
       "  </thead>\n",
       "  <tbody>\n",
       "    <tr>\n",
       "      <th>2018-03-01 00:00:00</th>\n",
       "      <td>NaN</td>\n",
       "    </tr>\n",
       "    <tr>\n",
       "      <th>2018-03-01 01:00:00</th>\n",
       "      <td>-39.0</td>\n",
       "    </tr>\n",
       "    <tr>\n",
       "      <th>2018-03-01 02:00:00</th>\n",
       "      <td>-14.0</td>\n",
       "    </tr>\n",
       "    <tr>\n",
       "      <th>2018-03-01 03:00:00</th>\n",
       "      <td>-5.0</td>\n",
       "    </tr>\n",
       "    <tr>\n",
       "      <th>2018-03-01 04:00:00</th>\n",
       "      <td>-23.0</td>\n",
       "    </tr>\n",
       "    <tr>\n",
       "      <th>2018-03-01 05:00:00</th>\n",
       "      <td>-37.0</td>\n",
       "    </tr>\n",
       "    <tr>\n",
       "      <th>2018-03-01 06:00:00</th>\n",
       "      <td>6.0</td>\n",
       "    </tr>\n",
       "    <tr>\n",
       "      <th>2018-03-01 07:00:00</th>\n",
       "      <td>3.0</td>\n",
       "    </tr>\n",
       "    <tr>\n",
       "      <th>2018-03-01 08:00:00</th>\n",
       "      <td>19.0</td>\n",
       "    </tr>\n",
       "    <tr>\n",
       "      <th>2018-03-01 09:00:00</th>\n",
       "      <td>35.0</td>\n",
       "    </tr>\n",
       "  </tbody>\n",
       "</table>\n",
       "</div>"
      ],
      "text/plain": [
       "                     num_orders\n",
       "datetime                       \n",
       "2018-03-01 00:00:00         NaN\n",
       "2018-03-01 01:00:00       -39.0\n",
       "2018-03-01 02:00:00       -14.0\n",
       "2018-03-01 03:00:00        -5.0\n",
       "2018-03-01 04:00:00       -23.0\n",
       "2018-03-01 05:00:00       -37.0\n",
       "2018-03-01 06:00:00         6.0\n",
       "2018-03-01 07:00:00         3.0\n",
       "2018-03-01 08:00:00        19.0\n",
       "2018-03-01 09:00:00        35.0"
      ]
     },
     "execution_count": 16,
     "metadata": {},
     "output_type": "execute_result"
    }
   ],
   "source": [
    "#Calcular las diferencias entre elementos vecinos utilizando el método shift()\n",
    "diferencias_shift = data - data.shift()\n",
    "diferencias_shift.head(10)"
   ]
  },
  {
   "cell_type": "markdown",
   "metadata": {},
   "source": [
    "Se calcularon las diferencias entre elementos vecinos utilizando el método `shift()`. Esto nos permite identificar patrones de cambio en la serie temporal.\n"
   ]
  },
  {
   "cell_type": "code",
   "execution_count": 17,
   "metadata": {},
   "outputs": [
    {
     "data": {
      "image/png": "[encoded data removed]",
      "text/plain": [
       "<Figure size 1000x500 with 1 Axes>"
      ]
     },
     "metadata": {},
     "output_type": "display_data"
    }
   ],
   "source": [
    "#Calcular la media móvil y la desviación estándar móvil con una ventana de tamaño 6\n",
    "media_movil = diferencias_shift.rolling(6).mean()\n",
    "std_movil = diferencias_shift.rolling(6).std()\n",
    "\n",
    "plt.figure(figsize=(10, 5))\n",
    "plt.plot(diferencias_shift.index, diferencias_shift, label='Diferencias entre elementos vecinos', color='blue')\n",
    "plt.plot(media_movil.index, media_movil, label='Media móvil (ventana=6)', color='red', linestyle='--')\n",
    "plt.plot(std_movil.index, std_movil, label='Desviación estándar móvil (ventana=6)', color='green', linestyle='-.')\n",
    "plt.title('Diferencias entre elementos vecinos, media móvil y desviación estándar móvil')\n",
    "plt.xlabel('Fecha y hora')\n",
    "plt.ylabel('Diferencias')\n",
    "plt.legend()\n",
    "plt.show()"
   ]
  },
  {
   "cell_type": "markdown",
   "metadata": {},
   "source": [
    "Se calculó la media móvil y la desviación estándar móvil de las diferencias entre elementos vecinos con una ventana de tamaño 6 horas. Esto nos ayuda a identificar patrones de variabilidad en las diferencias entre los valores de la serie temporal."
   ]
  },
  {
   "cell_type": "markdown",
   "metadata": {},
   "source": [
    "En resumen, se realizaron los siguentes pasos:\n",
    "\n",
    "1. **Remuestreo de los datos por hora y suma de órdenes**\n",
    "\n",
    "2. **Visualización de la serie temporal remuestreada**\n",
    "\n",
    "3. **Cálculo de la media móvil**\n",
    "\n",
    "4. **Visualización de la serie temporal original y la media móvil**\n",
    "\n",
    "5. **Análisis de tendencias y estacionalidad**\n",
    "\n",
    "6. **Cálculo de las diferencias entre elementos vecinos**\n",
    "\n",
    "7. **Cálculo de la media móvil y la desviación estándar móvil de las diferencias**\n",
    "\n",
    "Despues de realizar el análisis de datos, observamos información valiosa sobre la serie temporal de órdenes de taxi, incluyendo tendencias, estacionalidad y variabilidad. Esto nos ayuda para la construcción de modelos predictivos.\n",
    "\n",
    "\n",
    "\n",
    "\n"
   ]
  },
  {
   "cell_type": "markdown",
   "metadata": {},
   "source": [
    "<div class=\"alert alert-block alert-success\">\n",
    "<b>Comentario del revisor</b> <a class=\"tocSkip\"></a>\n",
    "\n",
    "Buen trabajo, Jorge. Usas secciones interesantes e importantes en el desarrollo de esta sección de análisis de componentes propios de la serie de tiempo.  </div>"
   ]
  },
  {
   "cell_type": "markdown",
   "metadata": {},
   "source": [
    "## Formación"
   ]
  },
  {
   "cell_type": "code",
   "execution_count": 18,
   "metadata": {
    "scrolled": true
   },
   "outputs": [
    {
     "data": {
      "text/html": [
       "<div>\n",
       "<style scoped>\n",
       "    .dataframe tbody tr th:only-of-type {\n",
       "        vertical-align: middle;\n",
       "    }\n",
       "\n",
       "    .dataframe tbody tr th {\n",
       "        vertical-align: top;\n",
       "    }\n",
       "\n",
       "    .dataframe thead th {\n",
       "        text-align: right;\n",
       "    }\n",
       "</style>\n",
       "<table border=\"1\" class=\"dataframe\">\n",
       "  <thead>\n",
       "    <tr style=\"text-align: right;\">\n",
       "      <th></th>\n",
       "      <th>num_orders</th>\n",
       "    </tr>\n",
       "    <tr>\n",
       "      <th>datetime</th>\n",
       "      <th></th>\n",
       "    </tr>\n",
       "  </thead>\n",
       "  <tbody>\n",
       "    <tr>\n",
       "      <th>2018-03-01 00:00:00</th>\n",
       "      <td>124</td>\n",
       "    </tr>\n",
       "    <tr>\n",
       "      <th>2018-03-01 01:00:00</th>\n",
       "      <td>85</td>\n",
       "    </tr>\n",
       "    <tr>\n",
       "      <th>2018-03-01 02:00:00</th>\n",
       "      <td>71</td>\n",
       "    </tr>\n",
       "    <tr>\n",
       "      <th>2018-03-01 03:00:00</th>\n",
       "      <td>66</td>\n",
       "    </tr>\n",
       "    <tr>\n",
       "      <th>2018-03-01 04:00:00</th>\n",
       "      <td>43</td>\n",
       "    </tr>\n",
       "    <tr>\n",
       "      <th>2018-03-01 05:00:00</th>\n",
       "      <td>6</td>\n",
       "    </tr>\n",
       "    <tr>\n",
       "      <th>2018-03-01 06:00:00</th>\n",
       "      <td>12</td>\n",
       "    </tr>\n",
       "    <tr>\n",
       "      <th>2018-03-01 07:00:00</th>\n",
       "      <td>15</td>\n",
       "    </tr>\n",
       "    <tr>\n",
       "      <th>2018-03-01 08:00:00</th>\n",
       "      <td>34</td>\n",
       "    </tr>\n",
       "    <tr>\n",
       "      <th>2018-03-01 09:00:00</th>\n",
       "      <td>69</td>\n",
       "    </tr>\n",
       "  </tbody>\n",
       "</table>\n",
       "</div>"
      ],
      "text/plain": [
       "                     num_orders\n",
       "datetime                       \n",
       "2018-03-01 00:00:00         124\n",
       "2018-03-01 01:00:00          85\n",
       "2018-03-01 02:00:00          71\n",
       "2018-03-01 03:00:00          66\n",
       "2018-03-01 04:00:00          43\n",
       "2018-03-01 05:00:00           6\n",
       "2018-03-01 06:00:00          12\n",
       "2018-03-01 07:00:00          15\n",
       "2018-03-01 08:00:00          34\n",
       "2018-03-01 09:00:00          69"
      ]
     },
     "execution_count": 18,
     "metadata": {},
     "output_type": "execute_result"
    }
   ],
   "source": [
    "#Mostrar el Dataframe\n",
    "data.head(10)"
   ]
  },
  {
   "cell_type": "markdown",
   "metadata": {},
   "source": [
    "Se utilizó el método `head()` para mostrar las primeras filas del DataFrame"
   ]
  },
  {
   "cell_type": "code",
   "execution_count": 19,
   "metadata": {
    "scrolled": true
   },
   "outputs": [
    {
     "data": {
      "text/html": [
       "<div>\n",
       "<style scoped>\n",
       "    .dataframe tbody tr th:only-of-type {\n",
       "        vertical-align: middle;\n",
       "    }\n",
       "\n",
       "    .dataframe tbody tr th {\n",
       "        vertical-align: top;\n",
       "    }\n",
       "\n",
       "    .dataframe thead th {\n",
       "        text-align: right;\n",
       "    }\n",
       "</style>\n",
       "<table border=\"1\" class=\"dataframe\">\n",
       "  <thead>\n",
       "    <tr style=\"text-align: right;\">\n",
       "      <th></th>\n",
       "      <th>num_orders</th>\n",
       "      <th>año</th>\n",
       "      <th>mes</th>\n",
       "      <th>dia</th>\n",
       "      <th>dia_semana</th>\n",
       "      <th>desfase_1</th>\n",
       "      <th>desfase_2</th>\n",
       "      <th>desfase_3</th>\n",
       "      <th>desfase_4</th>\n",
       "      <th>desfase_5</th>\n",
       "      <th>media_movil</th>\n",
       "    </tr>\n",
       "    <tr>\n",
       "      <th>datetime</th>\n",
       "      <th></th>\n",
       "      <th></th>\n",
       "      <th></th>\n",
       "      <th></th>\n",
       "      <th></th>\n",
       "      <th></th>\n",
       "      <th></th>\n",
       "      <th></th>\n",
       "      <th></th>\n",
       "      <th></th>\n",
       "      <th></th>\n",
       "    </tr>\n",
       "  </thead>\n",
       "  <tbody>\n",
       "    <tr>\n",
       "      <th>2018-03-01 00:00:00</th>\n",
       "      <td>124</td>\n",
       "      <td>2018</td>\n",
       "      <td>3</td>\n",
       "      <td>1</td>\n",
       "      <td>3</td>\n",
       "      <td>NaN</td>\n",
       "      <td>NaN</td>\n",
       "      <td>NaN</td>\n",
       "      <td>NaN</td>\n",
       "      <td>NaN</td>\n",
       "      <td>NaN</td>\n",
       "    </tr>\n",
       "    <tr>\n",
       "      <th>2018-03-01 01:00:00</th>\n",
       "      <td>85</td>\n",
       "      <td>2018</td>\n",
       "      <td>3</td>\n",
       "      <td>1</td>\n",
       "      <td>3</td>\n",
       "      <td>124.0</td>\n",
       "      <td>NaN</td>\n",
       "      <td>NaN</td>\n",
       "      <td>NaN</td>\n",
       "      <td>NaN</td>\n",
       "      <td>NaN</td>\n",
       "    </tr>\n",
       "    <tr>\n",
       "      <th>2018-03-01 02:00:00</th>\n",
       "      <td>71</td>\n",
       "      <td>2018</td>\n",
       "      <td>3</td>\n",
       "      <td>1</td>\n",
       "      <td>3</td>\n",
       "      <td>85.0</td>\n",
       "      <td>124.0</td>\n",
       "      <td>NaN</td>\n",
       "      <td>NaN</td>\n",
       "      <td>NaN</td>\n",
       "      <td>NaN</td>\n",
       "    </tr>\n",
       "    <tr>\n",
       "      <th>2018-03-01 03:00:00</th>\n",
       "      <td>66</td>\n",
       "      <td>2018</td>\n",
       "      <td>3</td>\n",
       "      <td>1</td>\n",
       "      <td>3</td>\n",
       "      <td>71.0</td>\n",
       "      <td>85.0</td>\n",
       "      <td>124.0</td>\n",
       "      <td>NaN</td>\n",
       "      <td>NaN</td>\n",
       "      <td>NaN</td>\n",
       "    </tr>\n",
       "    <tr>\n",
       "      <th>2018-03-01 04:00:00</th>\n",
       "      <td>43</td>\n",
       "      <td>2018</td>\n",
       "      <td>3</td>\n",
       "      <td>1</td>\n",
       "      <td>3</td>\n",
       "      <td>66.0</td>\n",
       "      <td>71.0</td>\n",
       "      <td>85.0</td>\n",
       "      <td>124.0</td>\n",
       "      <td>NaN</td>\n",
       "      <td>NaN</td>\n",
       "    </tr>\n",
       "    <tr>\n",
       "      <th>2018-03-01 05:00:00</th>\n",
       "      <td>6</td>\n",
       "      <td>2018</td>\n",
       "      <td>3</td>\n",
       "      <td>1</td>\n",
       "      <td>3</td>\n",
       "      <td>43.0</td>\n",
       "      <td>66.0</td>\n",
       "      <td>71.0</td>\n",
       "      <td>85.0</td>\n",
       "      <td>124.0</td>\n",
       "      <td>77.8</td>\n",
       "    </tr>\n",
       "    <tr>\n",
       "      <th>2018-03-01 06:00:00</th>\n",
       "      <td>12</td>\n",
       "      <td>2018</td>\n",
       "      <td>3</td>\n",
       "      <td>1</td>\n",
       "      <td>3</td>\n",
       "      <td>6.0</td>\n",
       "      <td>43.0</td>\n",
       "      <td>66.0</td>\n",
       "      <td>71.0</td>\n",
       "      <td>85.0</td>\n",
       "      <td>54.2</td>\n",
       "    </tr>\n",
       "    <tr>\n",
       "      <th>2018-03-01 07:00:00</th>\n",
       "      <td>15</td>\n",
       "      <td>2018</td>\n",
       "      <td>3</td>\n",
       "      <td>1</td>\n",
       "      <td>3</td>\n",
       "      <td>12.0</td>\n",
       "      <td>6.0</td>\n",
       "      <td>43.0</td>\n",
       "      <td>66.0</td>\n",
       "      <td>71.0</td>\n",
       "      <td>39.6</td>\n",
       "    </tr>\n",
       "    <tr>\n",
       "      <th>2018-03-01 08:00:00</th>\n",
       "      <td>34</td>\n",
       "      <td>2018</td>\n",
       "      <td>3</td>\n",
       "      <td>1</td>\n",
       "      <td>3</td>\n",
       "      <td>15.0</td>\n",
       "      <td>12.0</td>\n",
       "      <td>6.0</td>\n",
       "      <td>43.0</td>\n",
       "      <td>66.0</td>\n",
       "      <td>28.4</td>\n",
       "    </tr>\n",
       "    <tr>\n",
       "      <th>2018-03-01 09:00:00</th>\n",
       "      <td>69</td>\n",
       "      <td>2018</td>\n",
       "      <td>3</td>\n",
       "      <td>1</td>\n",
       "      <td>3</td>\n",
       "      <td>34.0</td>\n",
       "      <td>15.0</td>\n",
       "      <td>12.0</td>\n",
       "      <td>6.0</td>\n",
       "      <td>43.0</td>\n",
       "      <td>22.0</td>\n",
       "    </tr>\n",
       "  </tbody>\n",
       "</table>\n",
       "</div>"
      ],
      "text/plain": [
       "                     num_orders   año  mes  dia  dia_semana  desfase_1  \\\n",
       "datetime                                                                 \n",
       "2018-03-01 00:00:00         124  2018    3    1           3        NaN   \n",
       "2018-03-01 01:00:00          85  2018    3    1           3      124.0   \n",
       "2018-03-01 02:00:00          71  2018    3    1           3       85.0   \n",
       "2018-03-01 03:00:00          66  2018    3    1           3       71.0   \n",
       "2018-03-01 04:00:00          43  2018    3    1           3       66.0   \n",
       "2018-03-01 05:00:00           6  2018    3    1           3       43.0   \n",
       "2018-03-01 06:00:00          12  2018    3    1           3        6.0   \n",
       "2018-03-01 07:00:00          15  2018    3    1           3       12.0   \n",
       "2018-03-01 08:00:00          34  2018    3    1           3       15.0   \n",
       "2018-03-01 09:00:00          69  2018    3    1           3       34.0   \n",
       "\n",
       "                     desfase_2  desfase_3  desfase_4  desfase_5  media_movil  \n",
       "datetime                                                                      \n",
       "2018-03-01 00:00:00        NaN        NaN        NaN        NaN          NaN  \n",
       "2018-03-01 01:00:00        NaN        NaN        NaN        NaN          NaN  \n",
       "2018-03-01 02:00:00      124.0        NaN        NaN        NaN          NaN  \n",
       "2018-03-01 03:00:00       85.0      124.0        NaN        NaN          NaN  \n",
       "2018-03-01 04:00:00       71.0       85.0      124.0        NaN          NaN  \n",
       "2018-03-01 05:00:00       66.0       71.0       85.0      124.0         77.8  \n",
       "2018-03-01 06:00:00       43.0       66.0       71.0       85.0         54.2  \n",
       "2018-03-01 07:00:00        6.0       43.0       66.0       71.0         39.6  \n",
       "2018-03-01 08:00:00       12.0        6.0       43.0       66.0         28.4  \n",
       "2018-03-01 09:00:00       15.0       12.0        6.0       43.0         22.0  "
      ]
     },
     "execution_count": 19,
     "metadata": {},
     "output_type": "execute_result"
    }
   ],
   "source": [
    "#Creación de Caracteristicas del Calendario, Desface y Media Movil\n",
    "def hacer_funciones(data, max_lag, rolling_mean_size):\n",
    "    data['año'] = data.index.year\n",
    "    data['mes'] = data.index.month\n",
    "    data['dia'] = data.index.day\n",
    "    data['dia_semana'] = data.index.dayofweek\n",
    "    \n",
    "    for lag in range(1, max_lag + 1):\n",
    "        data['desfase_{}'.format(lag)] = data['num_orders'].shift(lag)  # Cambiar el nombre de la columna aquí\n",
    "    \n",
    "    data['media_movil'] = (data['num_orders'].shift().rolling(rolling_mean_size).mean())\n",
    "\n",
    "hacer_funciones(data, 5, 5)\n",
    "data.head(10)"
   ]
  },
  {
   "cell_type": "markdown",
   "metadata": {},
   "source": [
    "Se construyo una función para agregar caracteristicas de calendario como año, mes, día y día de la semana, características de desfase y calculo de la media movil."
   ]
  },
  {
   "cell_type": "code",
   "execution_count": 20,
   "metadata": {},
   "outputs": [
    {
     "data": {
      "text/html": [
       "<div>\n",
       "<style scoped>\n",
       "    .dataframe tbody tr th:only-of-type {\n",
       "        vertical-align: middle;\n",
       "    }\n",
       "\n",
       "    .dataframe tbody tr th {\n",
       "        vertical-align: top;\n",
       "    }\n",
       "\n",
       "    .dataframe thead th {\n",
       "        text-align: right;\n",
       "    }\n",
       "</style>\n",
       "<table border=\"1\" class=\"dataframe\">\n",
       "  <thead>\n",
       "    <tr style=\"text-align: right;\">\n",
       "      <th></th>\n",
       "      <th>num_orders</th>\n",
       "      <th>año</th>\n",
       "      <th>mes</th>\n",
       "      <th>dia</th>\n",
       "      <th>dia_semana</th>\n",
       "      <th>desfase_1</th>\n",
       "      <th>desfase_2</th>\n",
       "      <th>desfase_3</th>\n",
       "      <th>desfase_4</th>\n",
       "      <th>desfase_5</th>\n",
       "      <th>media_movil</th>\n",
       "      <th>tendencia</th>\n",
       "      <th>estacionalidad</th>\n",
       "    </tr>\n",
       "    <tr>\n",
       "      <th>datetime</th>\n",
       "      <th></th>\n",
       "      <th></th>\n",
       "      <th></th>\n",
       "      <th></th>\n",
       "      <th></th>\n",
       "      <th></th>\n",
       "      <th></th>\n",
       "      <th></th>\n",
       "      <th></th>\n",
       "      <th></th>\n",
       "      <th></th>\n",
       "      <th></th>\n",
       "      <th></th>\n",
       "    </tr>\n",
       "  </thead>\n",
       "  <tbody>\n",
       "    <tr>\n",
       "      <th>2018-03-01 00:00:00</th>\n",
       "      <td>124</td>\n",
       "      <td>2018</td>\n",
       "      <td>3</td>\n",
       "      <td>1</td>\n",
       "      <td>3</td>\n",
       "      <td>NaN</td>\n",
       "      <td>NaN</td>\n",
       "      <td>NaN</td>\n",
       "      <td>NaN</td>\n",
       "      <td>NaN</td>\n",
       "      <td>NaN</td>\n",
       "      <td>NaN</td>\n",
       "      <td>60.248112</td>\n",
       "    </tr>\n",
       "    <tr>\n",
       "      <th>2018-03-01 01:00:00</th>\n",
       "      <td>85</td>\n",
       "      <td>2018</td>\n",
       "      <td>3</td>\n",
       "      <td>1</td>\n",
       "      <td>3</td>\n",
       "      <td>124.0</td>\n",
       "      <td>NaN</td>\n",
       "      <td>NaN</td>\n",
       "      <td>NaN</td>\n",
       "      <td>NaN</td>\n",
       "      <td>NaN</td>\n",
       "      <td>NaN</td>\n",
       "      <td>20.177074</td>\n",
       "    </tr>\n",
       "    <tr>\n",
       "      <th>2018-03-01 02:00:00</th>\n",
       "      <td>71</td>\n",
       "      <td>2018</td>\n",
       "      <td>3</td>\n",
       "      <td>1</td>\n",
       "      <td>3</td>\n",
       "      <td>85.0</td>\n",
       "      <td>124.0</td>\n",
       "      <td>NaN</td>\n",
       "      <td>NaN</td>\n",
       "      <td>NaN</td>\n",
       "      <td>NaN</td>\n",
       "      <td>NaN</td>\n",
       "      <td>28.982743</td>\n",
       "    </tr>\n",
       "    <tr>\n",
       "      <th>2018-03-01 03:00:00</th>\n",
       "      <td>66</td>\n",
       "      <td>2018</td>\n",
       "      <td>3</td>\n",
       "      <td>1</td>\n",
       "      <td>3</td>\n",
       "      <td>71.0</td>\n",
       "      <td>85.0</td>\n",
       "      <td>124.0</td>\n",
       "      <td>NaN</td>\n",
       "      <td>NaN</td>\n",
       "      <td>NaN</td>\n",
       "      <td>NaN</td>\n",
       "      <td>17.885407</td>\n",
       "    </tr>\n",
       "    <tr>\n",
       "      <th>2018-03-01 04:00:00</th>\n",
       "      <td>43</td>\n",
       "      <td>2018</td>\n",
       "      <td>3</td>\n",
       "      <td>1</td>\n",
       "      <td>3</td>\n",
       "      <td>66.0</td>\n",
       "      <td>71.0</td>\n",
       "      <td>85.0</td>\n",
       "      <td>124.0</td>\n",
       "      <td>NaN</td>\n",
       "      <td>NaN</td>\n",
       "      <td>NaN</td>\n",
       "      <td>2.791145</td>\n",
       "    </tr>\n",
       "    <tr>\n",
       "      <th>2018-03-01 05:00:00</th>\n",
       "      <td>6</td>\n",
       "      <td>2018</td>\n",
       "      <td>3</td>\n",
       "      <td>1</td>\n",
       "      <td>3</td>\n",
       "      <td>43.0</td>\n",
       "      <td>66.0</td>\n",
       "      <td>71.0</td>\n",
       "      <td>85.0</td>\n",
       "      <td>124.0</td>\n",
       "      <td>77.8</td>\n",
       "      <td>NaN</td>\n",
       "      <td>-41.563022</td>\n",
       "    </tr>\n",
       "    <tr>\n",
       "      <th>2018-03-01 06:00:00</th>\n",
       "      <td>12</td>\n",
       "      <td>2018</td>\n",
       "      <td>3</td>\n",
       "      <td>1</td>\n",
       "      <td>3</td>\n",
       "      <td>6.0</td>\n",
       "      <td>43.0</td>\n",
       "      <td>66.0</td>\n",
       "      <td>71.0</td>\n",
       "      <td>85.0</td>\n",
       "      <td>54.2</td>\n",
       "      <td>NaN</td>\n",
       "      <td>-59.182671</td>\n",
       "    </tr>\n",
       "    <tr>\n",
       "      <th>2018-03-01 07:00:00</th>\n",
       "      <td>15</td>\n",
       "      <td>2018</td>\n",
       "      <td>3</td>\n",
       "      <td>1</td>\n",
       "      <td>3</td>\n",
       "      <td>12.0</td>\n",
       "      <td>6.0</td>\n",
       "      <td>43.0</td>\n",
       "      <td>66.0</td>\n",
       "      <td>71.0</td>\n",
       "      <td>39.6</td>\n",
       "      <td>NaN</td>\n",
       "      <td>-55.104461</td>\n",
       "    </tr>\n",
       "    <tr>\n",
       "      <th>2018-03-01 08:00:00</th>\n",
       "      <td>34</td>\n",
       "      <td>2018</td>\n",
       "      <td>3</td>\n",
       "      <td>1</td>\n",
       "      <td>3</td>\n",
       "      <td>15.0</td>\n",
       "      <td>12.0</td>\n",
       "      <td>6.0</td>\n",
       "      <td>43.0</td>\n",
       "      <td>66.0</td>\n",
       "      <td>28.4</td>\n",
       "      <td>NaN</td>\n",
       "      <td>-11.212840</td>\n",
       "    </tr>\n",
       "    <tr>\n",
       "      <th>2018-03-01 09:00:00</th>\n",
       "      <td>69</td>\n",
       "      <td>2018</td>\n",
       "      <td>3</td>\n",
       "      <td>1</td>\n",
       "      <td>3</td>\n",
       "      <td>34.0</td>\n",
       "      <td>15.0</td>\n",
       "      <td>12.0</td>\n",
       "      <td>6.0</td>\n",
       "      <td>43.0</td>\n",
       "      <td>22.0</td>\n",
       "      <td>NaN</td>\n",
       "      <td>4.443581</td>\n",
       "    </tr>\n",
       "  </tbody>\n",
       "</table>\n",
       "</div>"
      ],
      "text/plain": [
       "                     num_orders   año  mes  dia  dia_semana  desfase_1  \\\n",
       "datetime                                                                 \n",
       "2018-03-01 00:00:00         124  2018    3    1           3        NaN   \n",
       "2018-03-01 01:00:00          85  2018    3    1           3      124.0   \n",
       "2018-03-01 02:00:00          71  2018    3    1           3       85.0   \n",
       "2018-03-01 03:00:00          66  2018    3    1           3       71.0   \n",
       "2018-03-01 04:00:00          43  2018    3    1           3       66.0   \n",
       "2018-03-01 05:00:00           6  2018    3    1           3       43.0   \n",
       "2018-03-01 06:00:00          12  2018    3    1           3        6.0   \n",
       "2018-03-01 07:00:00          15  2018    3    1           3       12.0   \n",
       "2018-03-01 08:00:00          34  2018    3    1           3       15.0   \n",
       "2018-03-01 09:00:00          69  2018    3    1           3       34.0   \n",
       "\n",
       "                     desfase_2  desfase_3  desfase_4  desfase_5  media_movil  \\\n",
       "datetime                                                                       \n",
       "2018-03-01 00:00:00        NaN        NaN        NaN        NaN          NaN   \n",
       "2018-03-01 01:00:00        NaN        NaN        NaN        NaN          NaN   \n",
       "2018-03-01 02:00:00      124.0        NaN        NaN        NaN          NaN   \n",
       "2018-03-01 03:00:00       85.0      124.0        NaN        NaN          NaN   \n",
       "2018-03-01 04:00:00       71.0       85.0      124.0        NaN          NaN   \n",
       "2018-03-01 05:00:00       66.0       71.0       85.0      124.0         77.8   \n",
       "2018-03-01 06:00:00       43.0       66.0       71.0       85.0         54.2   \n",
       "2018-03-01 07:00:00        6.0       43.0       66.0       71.0         39.6   \n",
       "2018-03-01 08:00:00       12.0        6.0       43.0       66.0         28.4   \n",
       "2018-03-01 09:00:00       15.0       12.0        6.0       43.0         22.0   \n",
       "\n",
       "                     tendencia  estacionalidad  \n",
       "datetime                                        \n",
       "2018-03-01 00:00:00        NaN       60.248112  \n",
       "2018-03-01 01:00:00        NaN       20.177074  \n",
       "2018-03-01 02:00:00        NaN       28.982743  \n",
       "2018-03-01 03:00:00        NaN       17.885407  \n",
       "2018-03-01 04:00:00        NaN        2.791145  \n",
       "2018-03-01 05:00:00        NaN      -41.563022  \n",
       "2018-03-01 06:00:00        NaN      -59.182671  \n",
       "2018-03-01 07:00:00        NaN      -55.104461  \n",
       "2018-03-01 08:00:00        NaN      -11.212840  \n",
       "2018-03-01 09:00:00        NaN        4.443581  "
      ]
     },
     "execution_count": 20,
     "metadata": {},
     "output_type": "execute_result"
    }
   ],
   "source": [
    "#Agregar las Características de Tendencia y Estacionalidad\n",
    "data['tendencia'] = decomposed.trend.values\n",
    "data['estacionalidad'] = decomposed.seasonal.values\n",
    "data.head(10)"
   ]
  },
  {
   "cell_type": "markdown",
   "metadata": {},
   "source": [
    " Se agregaron las caracterisitcas de tendencia y estacionalidad obtenidas mediante la descomposición estacional de la serie temporal.\n"
   ]
  },
  {
   "cell_type": "code",
   "execution_count": 21,
   "metadata": {},
   "outputs": [
    {
     "data": {
      "text/html": [
       "<div>\n",
       "<style scoped>\n",
       "    .dataframe tbody tr th:only-of-type {\n",
       "        vertical-align: middle;\n",
       "    }\n",
       "\n",
       "    .dataframe tbody tr th {\n",
       "        vertical-align: top;\n",
       "    }\n",
       "\n",
       "    .dataframe thead th {\n",
       "        text-align: right;\n",
       "    }\n",
       "</style>\n",
       "<table border=\"1\" class=\"dataframe\">\n",
       "  <thead>\n",
       "    <tr style=\"text-align: right;\">\n",
       "      <th></th>\n",
       "      <th>num_orders</th>\n",
       "      <th>año</th>\n",
       "      <th>mes</th>\n",
       "      <th>dia</th>\n",
       "      <th>dia_semana</th>\n",
       "      <th>desfase_1</th>\n",
       "      <th>desfase_2</th>\n",
       "      <th>desfase_3</th>\n",
       "      <th>desfase_4</th>\n",
       "      <th>desfase_5</th>\n",
       "      <th>media_movil</th>\n",
       "      <th>tendencia</th>\n",
       "      <th>estacionalidad</th>\n",
       "      <th>std_movil</th>\n",
       "    </tr>\n",
       "    <tr>\n",
       "      <th>datetime</th>\n",
       "      <th></th>\n",
       "      <th></th>\n",
       "      <th></th>\n",
       "      <th></th>\n",
       "      <th></th>\n",
       "      <th></th>\n",
       "      <th></th>\n",
       "      <th></th>\n",
       "      <th></th>\n",
       "      <th></th>\n",
       "      <th></th>\n",
       "      <th></th>\n",
       "      <th></th>\n",
       "      <th></th>\n",
       "    </tr>\n",
       "  </thead>\n",
       "  <tbody>\n",
       "    <tr>\n",
       "      <th>2018-03-01 00:00:00</th>\n",
       "      <td>124</td>\n",
       "      <td>2018</td>\n",
       "      <td>3</td>\n",
       "      <td>1</td>\n",
       "      <td>3</td>\n",
       "      <td>NaN</td>\n",
       "      <td>NaN</td>\n",
       "      <td>NaN</td>\n",
       "      <td>NaN</td>\n",
       "      <td>NaN</td>\n",
       "      <td>NaN</td>\n",
       "      <td>NaN</td>\n",
       "      <td>60.248112</td>\n",
       "      <td>NaN</td>\n",
       "    </tr>\n",
       "    <tr>\n",
       "      <th>2018-03-01 01:00:00</th>\n",
       "      <td>85</td>\n",
       "      <td>2018</td>\n",
       "      <td>3</td>\n",
       "      <td>1</td>\n",
       "      <td>3</td>\n",
       "      <td>124.0</td>\n",
       "      <td>NaN</td>\n",
       "      <td>NaN</td>\n",
       "      <td>NaN</td>\n",
       "      <td>NaN</td>\n",
       "      <td>NaN</td>\n",
       "      <td>NaN</td>\n",
       "      <td>20.177074</td>\n",
       "      <td>NaN</td>\n",
       "    </tr>\n",
       "    <tr>\n",
       "      <th>2018-03-01 02:00:00</th>\n",
       "      <td>71</td>\n",
       "      <td>2018</td>\n",
       "      <td>3</td>\n",
       "      <td>1</td>\n",
       "      <td>3</td>\n",
       "      <td>85.0</td>\n",
       "      <td>124.0</td>\n",
       "      <td>NaN</td>\n",
       "      <td>NaN</td>\n",
       "      <td>NaN</td>\n",
       "      <td>NaN</td>\n",
       "      <td>NaN</td>\n",
       "      <td>28.982743</td>\n",
       "      <td>NaN</td>\n",
       "    </tr>\n",
       "    <tr>\n",
       "      <th>2018-03-01 03:00:00</th>\n",
       "      <td>66</td>\n",
       "      <td>2018</td>\n",
       "      <td>3</td>\n",
       "      <td>1</td>\n",
       "      <td>3</td>\n",
       "      <td>71.0</td>\n",
       "      <td>85.0</td>\n",
       "      <td>124.0</td>\n",
       "      <td>NaN</td>\n",
       "      <td>NaN</td>\n",
       "      <td>NaN</td>\n",
       "      <td>NaN</td>\n",
       "      <td>17.885407</td>\n",
       "      <td>NaN</td>\n",
       "    </tr>\n",
       "    <tr>\n",
       "      <th>2018-03-01 04:00:00</th>\n",
       "      <td>43</td>\n",
       "      <td>2018</td>\n",
       "      <td>3</td>\n",
       "      <td>1</td>\n",
       "      <td>3</td>\n",
       "      <td>66.0</td>\n",
       "      <td>71.0</td>\n",
       "      <td>85.0</td>\n",
       "      <td>124.0</td>\n",
       "      <td>NaN</td>\n",
       "      <td>NaN</td>\n",
       "      <td>NaN</td>\n",
       "      <td>2.791145</td>\n",
       "      <td>NaN</td>\n",
       "    </tr>\n",
       "    <tr>\n",
       "      <th>2018-03-01 05:00:00</th>\n",
       "      <td>6</td>\n",
       "      <td>2018</td>\n",
       "      <td>3</td>\n",
       "      <td>1</td>\n",
       "      <td>3</td>\n",
       "      <td>43.0</td>\n",
       "      <td>66.0</td>\n",
       "      <td>71.0</td>\n",
       "      <td>85.0</td>\n",
       "      <td>124.0</td>\n",
       "      <td>77.8</td>\n",
       "      <td>NaN</td>\n",
       "      <td>-41.563022</td>\n",
       "      <td>NaN</td>\n",
       "    </tr>\n",
       "    <tr>\n",
       "      <th>2018-03-01 06:00:00</th>\n",
       "      <td>12</td>\n",
       "      <td>2018</td>\n",
       "      <td>3</td>\n",
       "      <td>1</td>\n",
       "      <td>3</td>\n",
       "      <td>6.0</td>\n",
       "      <td>43.0</td>\n",
       "      <td>66.0</td>\n",
       "      <td>71.0</td>\n",
       "      <td>85.0</td>\n",
       "      <td>54.2</td>\n",
       "      <td>NaN</td>\n",
       "      <td>-59.182671</td>\n",
       "      <td>17.806366</td>\n",
       "    </tr>\n",
       "    <tr>\n",
       "      <th>2018-03-01 07:00:00</th>\n",
       "      <td>15</td>\n",
       "      <td>2018</td>\n",
       "      <td>3</td>\n",
       "      <td>1</td>\n",
       "      <td>3</td>\n",
       "      <td>12.0</td>\n",
       "      <td>6.0</td>\n",
       "      <td>43.0</td>\n",
       "      <td>66.0</td>\n",
       "      <td>71.0</td>\n",
       "      <td>39.6</td>\n",
       "      <td>NaN</td>\n",
       "      <td>-55.104461</td>\n",
       "      <td>16.415440</td>\n",
       "    </tr>\n",
       "    <tr>\n",
       "      <th>2018-03-01 08:00:00</th>\n",
       "      <td>34</td>\n",
       "      <td>2018</td>\n",
       "      <td>3</td>\n",
       "      <td>1</td>\n",
       "      <td>3</td>\n",
       "      <td>15.0</td>\n",
       "      <td>12.0</td>\n",
       "      <td>6.0</td>\n",
       "      <td>43.0</td>\n",
       "      <td>66.0</td>\n",
       "      <td>28.4</td>\n",
       "      <td>NaN</td>\n",
       "      <td>-11.212840</td>\n",
       "      <td>20.497967</td>\n",
       "    </tr>\n",
       "    <tr>\n",
       "      <th>2018-03-01 09:00:00</th>\n",
       "      <td>69</td>\n",
       "      <td>2018</td>\n",
       "      <td>3</td>\n",
       "      <td>1</td>\n",
       "      <td>3</td>\n",
       "      <td>34.0</td>\n",
       "      <td>15.0</td>\n",
       "      <td>12.0</td>\n",
       "      <td>6.0</td>\n",
       "      <td>43.0</td>\n",
       "      <td>22.0</td>\n",
       "      <td>NaN</td>\n",
       "      <td>4.443581</td>\n",
       "      <td>26.561250</td>\n",
       "    </tr>\n",
       "  </tbody>\n",
       "</table>\n",
       "</div>"
      ],
      "text/plain": [
       "                     num_orders   año  mes  dia  dia_semana  desfase_1  \\\n",
       "datetime                                                                 \n",
       "2018-03-01 00:00:00         124  2018    3    1           3        NaN   \n",
       "2018-03-01 01:00:00          85  2018    3    1           3      124.0   \n",
       "2018-03-01 02:00:00          71  2018    3    1           3       85.0   \n",
       "2018-03-01 03:00:00          66  2018    3    1           3       71.0   \n",
       "2018-03-01 04:00:00          43  2018    3    1           3       66.0   \n",
       "2018-03-01 05:00:00           6  2018    3    1           3       43.0   \n",
       "2018-03-01 06:00:00          12  2018    3    1           3        6.0   \n",
       "2018-03-01 07:00:00          15  2018    3    1           3       12.0   \n",
       "2018-03-01 08:00:00          34  2018    3    1           3       15.0   \n",
       "2018-03-01 09:00:00          69  2018    3    1           3       34.0   \n",
       "\n",
       "                     desfase_2  desfase_3  desfase_4  desfase_5  media_movil  \\\n",
       "datetime                                                                       \n",
       "2018-03-01 00:00:00        NaN        NaN        NaN        NaN          NaN   \n",
       "2018-03-01 01:00:00        NaN        NaN        NaN        NaN          NaN   \n",
       "2018-03-01 02:00:00      124.0        NaN        NaN        NaN          NaN   \n",
       "2018-03-01 03:00:00       85.0      124.0        NaN        NaN          NaN   \n",
       "2018-03-01 04:00:00       71.0       85.0      124.0        NaN          NaN   \n",
       "2018-03-01 05:00:00       66.0       71.0       85.0      124.0         77.8   \n",
       "2018-03-01 06:00:00       43.0       66.0       71.0       85.0         54.2   \n",
       "2018-03-01 07:00:00        6.0       43.0       66.0       71.0         39.6   \n",
       "2018-03-01 08:00:00       12.0        6.0       43.0       66.0         28.4   \n",
       "2018-03-01 09:00:00       15.0       12.0        6.0       43.0         22.0   \n",
       "\n",
       "                     tendencia  estacionalidad  std_movil  \n",
       "datetime                                                   \n",
       "2018-03-01 00:00:00        NaN       60.248112        NaN  \n",
       "2018-03-01 01:00:00        NaN       20.177074        NaN  \n",
       "2018-03-01 02:00:00        NaN       28.982743        NaN  \n",
       "2018-03-01 03:00:00        NaN       17.885407        NaN  \n",
       "2018-03-01 04:00:00        NaN        2.791145        NaN  \n",
       "2018-03-01 05:00:00        NaN      -41.563022        NaN  \n",
       "2018-03-01 06:00:00        NaN      -59.182671  17.806366  \n",
       "2018-03-01 07:00:00        NaN      -55.104461  16.415440  \n",
       "2018-03-01 08:00:00        NaN      -11.212840  20.497967  \n",
       "2018-03-01 09:00:00        NaN        4.443581  26.561250  "
      ]
     },
     "execution_count": 21,
     "metadata": {},
     "output_type": "execute_result"
    }
   ],
   "source": [
    "#Agregar la Característica de Desviación Estandar\n",
    "data['std_movil'] = std_movil\n",
    "\n",
    "data.head(10)"
   ]
  },
  {
   "cell_type": "markdown",
   "metadata": {},
   "source": [
    "Se agrego el calculo de la desviación estándar móvil para capturar la variabilidad de la serie temporal."
   ]
  },
  {
   "cell_type": "code",
   "execution_count": 22,
   "metadata": {},
   "outputs": [
    {
     "name": "stdout",
     "output_type": "stream",
     "text": [
      "<class 'pandas.core.frame.DataFrame'>\n",
      "DatetimeIndex: 4392 entries, 2018-03-01 12:00:00 to 2018-08-31 11:00:00\n",
      "Freq: H\n",
      "Data columns (total 14 columns):\n",
      " #   Column          Non-Null Count  Dtype  \n",
      "---  ------          --------------  -----  \n",
      " 0   num_orders      4392 non-null   int64  \n",
      " 1   año             4392 non-null   int64  \n",
      " 2   mes             4392 non-null   int64  \n",
      " 3   dia             4392 non-null   int64  \n",
      " 4   dia_semana      4392 non-null   int64  \n",
      " 5   desfase_1       4392 non-null   float64\n",
      " 6   desfase_2       4392 non-null   float64\n",
      " 7   desfase_3       4392 non-null   float64\n",
      " 8   desfase_4       4392 non-null   float64\n",
      " 9   desfase_5       4392 non-null   float64\n",
      " 10  media_movil     4392 non-null   float64\n",
      " 11  tendencia       4392 non-null   float64\n",
      " 12  estacionalidad  4392 non-null   float64\n",
      " 13  std_movil       4392 non-null   float64\n",
      "dtypes: float64(9), int64(5)\n",
      "memory usage: 514.7 KB\n"
     ]
    }
   ],
   "source": [
    "#Eliminar filas con valores nulos\n",
    "data = data.dropna()\n",
    "data.info()"
   ]
  },
  {
   "cell_type": "markdown",
   "metadata": {},
   "source": [
    "Se eliminaron las filas que contienen valores nulos resultantes de las operaciones anteriores."
   ]
  },
  {
   "cell_type": "code",
   "execution_count": 23,
   "metadata": {},
   "outputs": [
    {
     "name": "stderr",
     "output_type": "stream",
     "text": [
      "/tmp/ipykernel_134/3502551312.py:4: SettingWithCopyWarning: \n",
      "A value is trying to be set on a copy of a slice from a DataFrame.\n",
      "Try using .loc[row_indexer,col_indexer] = value instead\n",
      "\n",
      "See the caveats in the documentation: https://pandas.pydata.org/pandas-docs/stable/user_guide/indexing.html#returning-a-view-versus-a-copy\n",
      "  data[caracteristicas_numericas] = scaler.fit_transform(data[caracteristicas_numericas])\n",
      "/opt/conda/envs/python3/lib/python3.9/site-packages/pandas/core/indexing.py:1738: SettingWithCopyWarning: \n",
      "A value is trying to be set on a copy of a slice from a DataFrame.\n",
      "Try using .loc[row_indexer,col_indexer] = value instead\n",
      "\n",
      "See the caveats in the documentation: https://pandas.pydata.org/pandas-docs/stable/user_guide/indexing.html#returning-a-view-versus-a-copy\n",
      "  self._setitem_single_column(loc, value[:, i].tolist(), pi)\n"
     ]
    },
    {
     "data": {
      "text/html": [
       "<div>\n",
       "<style scoped>\n",
       "    .dataframe tbody tr th:only-of-type {\n",
       "        vertical-align: middle;\n",
       "    }\n",
       "\n",
       "    .dataframe tbody tr th {\n",
       "        vertical-align: top;\n",
       "    }\n",
       "\n",
       "    .dataframe thead th {\n",
       "        text-align: right;\n",
       "    }\n",
       "</style>\n",
       "<table border=\"1\" class=\"dataframe\">\n",
       "  <thead>\n",
       "    <tr style=\"text-align: right;\">\n",
       "      <th></th>\n",
       "      <th>num_orders</th>\n",
       "      <th>año</th>\n",
       "      <th>mes</th>\n",
       "      <th>dia</th>\n",
       "      <th>dia_semana</th>\n",
       "      <th>desfase_1</th>\n",
       "      <th>desfase_2</th>\n",
       "      <th>desfase_3</th>\n",
       "      <th>desfase_4</th>\n",
       "      <th>desfase_5</th>\n",
       "      <th>media_movil</th>\n",
       "      <th>tendencia</th>\n",
       "      <th>estacionalidad</th>\n",
       "      <th>std_movil</th>\n",
       "    </tr>\n",
       "    <tr>\n",
       "      <th>datetime</th>\n",
       "      <th></th>\n",
       "      <th></th>\n",
       "      <th></th>\n",
       "      <th></th>\n",
       "      <th></th>\n",
       "      <th></th>\n",
       "      <th></th>\n",
       "      <th></th>\n",
       "      <th></th>\n",
       "      <th></th>\n",
       "      <th></th>\n",
       "      <th></th>\n",
       "      <th></th>\n",
       "      <th></th>\n",
       "    </tr>\n",
       "  </thead>\n",
       "  <tbody>\n",
       "    <tr>\n",
       "      <th>2018-03-01 12:00:00</th>\n",
       "      <td>30</td>\n",
       "      <td>0.0</td>\n",
       "      <td>-1.467057</td>\n",
       "      <td>-1.68422</td>\n",
       "      <td>-0.001369</td>\n",
       "      <td>0.262378</td>\n",
       "      <td>-0.451543</td>\n",
       "      <td>-0.339453</td>\n",
       "      <td>-1.121504</td>\n",
       "      <td>-1.545930</td>\n",
       "      <td>-0.839932</td>\n",
       "      <td>-1.069800</td>\n",
       "      <td>-0.639361</td>\n",
       "      <td>-0.018929</td>\n",
       "    </tr>\n",
       "    <tr>\n",
       "      <th>2018-03-01 13:00:00</th>\n",
       "      <td>32</td>\n",
       "      <td>0.0</td>\n",
       "      <td>-1.467057</td>\n",
       "      <td>-1.68422</td>\n",
       "      <td>-0.001369</td>\n",
       "      <td>-1.210835</td>\n",
       "      <td>0.263188</td>\n",
       "      <td>-0.451218</td>\n",
       "      <td>-0.338835</td>\n",
       "      <td>-1.121133</td>\n",
       "      <td>-0.751794</td>\n",
       "      <td>-1.069008</td>\n",
       "      <td>-0.510538</td>\n",
       "      <td>-0.018803</td>\n",
       "    </tr>\n",
       "    <tr>\n",
       "      <th>2018-03-01 14:00:00</th>\n",
       "      <td>48</td>\n",
       "      <td>0.0</td>\n",
       "      <td>-1.467057</td>\n",
       "      <td>-1.68422</td>\n",
       "      <td>-0.001369</td>\n",
       "      <td>-1.166192</td>\n",
       "      <td>-1.210945</td>\n",
       "      <td>0.264078</td>\n",
       "      <td>-0.450645</td>\n",
       "      <td>-0.338613</td>\n",
       "      <td>-0.763546</td>\n",
       "      <td>-1.038124</td>\n",
       "      <td>-0.351449</td>\n",
       "      <td>-0.032459</td>\n",
       "    </tr>\n",
       "    <tr>\n",
       "      <th>2018-03-01 15:00:00</th>\n",
       "      <td>66</td>\n",
       "      <td>0.0</td>\n",
       "      <td>-1.467057</td>\n",
       "      <td>-1.68422</td>\n",
       "      <td>-0.001369</td>\n",
       "      <td>-0.809050</td>\n",
       "      <td>-1.166274</td>\n",
       "      <td>-1.211219</td>\n",
       "      <td>0.264937</td>\n",
       "      <td>-0.450402</td>\n",
       "      <td>-0.886939</td>\n",
       "      <td>-1.036540</td>\n",
       "      <td>0.142689</td>\n",
       "      <td>-0.170123</td>\n",
       "    </tr>\n",
       "    <tr>\n",
       "      <th>2018-03-01 16:00:00</th>\n",
       "      <td>43</td>\n",
       "      <td>0.0</td>\n",
       "      <td>-1.467057</td>\n",
       "      <td>-1.68422</td>\n",
       "      <td>-0.001369</td>\n",
       "      <td>-0.407264</td>\n",
       "      <td>-0.808909</td>\n",
       "      <td>-1.166513</td>\n",
       "      <td>-1.210951</td>\n",
       "      <td>0.265045</td>\n",
       "      <td>-0.875188</td>\n",
       "      <td>-1.056338</td>\n",
       "      <td>1.131931</td>\n",
       "      <td>-0.100586</td>\n",
       "    </tr>\n",
       "    <tr>\n",
       "      <th>2018-03-01 17:00:00</th>\n",
       "      <td>44</td>\n",
       "      <td>0.0</td>\n",
       "      <td>-1.467057</td>\n",
       "      <td>-1.68422</td>\n",
       "      <td>-0.001369</td>\n",
       "      <td>-0.920657</td>\n",
       "      <td>-0.406872</td>\n",
       "      <td>-0.808865</td>\n",
       "      <td>-1.166227</td>\n",
       "      <td>-1.210564</td>\n",
       "      <td>-1.186610</td>\n",
       "      <td>-1.070592</td>\n",
       "      <td>0.302827</td>\n",
       "      <td>-0.335716</td>\n",
       "    </tr>\n",
       "    <tr>\n",
       "      <th>2018-03-01 18:00:00</th>\n",
       "      <td>73</td>\n",
       "      <td>0.0</td>\n",
       "      <td>-1.467057</td>\n",
       "      <td>-1.68422</td>\n",
       "      <td>-0.001369</td>\n",
       "      <td>-0.898335</td>\n",
       "      <td>-0.920585</td>\n",
       "      <td>-0.406512</td>\n",
       "      <td>-0.808436</td>\n",
       "      <td>-1.165849</td>\n",
       "      <td>-1.104347</td>\n",
       "      <td>-1.067424</td>\n",
       "      <td>-0.593721</td>\n",
       "      <td>-1.103028</td>\n",
       "    </tr>\n",
       "    <tr>\n",
       "      <th>2018-03-01 19:00:00</th>\n",
       "      <td>45</td>\n",
       "      <td>0.0</td>\n",
       "      <td>-1.467057</td>\n",
       "      <td>-1.68422</td>\n",
       "      <td>-0.001369</td>\n",
       "      <td>-0.251014</td>\n",
       "      <td>-0.898250</td>\n",
       "      <td>-0.920630</td>\n",
       "      <td>-0.405921</td>\n",
       "      <td>-0.808125</td>\n",
       "      <td>-0.863436</td>\n",
       "      <td>-1.074551</td>\n",
       "      <td>-0.272401</td>\n",
       "      <td>-0.812846</td>\n",
       "    </tr>\n",
       "    <tr>\n",
       "      <th>2018-03-01 20:00:00</th>\n",
       "      <td>61</td>\n",
       "      <td>0.0</td>\n",
       "      <td>-1.467057</td>\n",
       "      <td>-1.68422</td>\n",
       "      <td>-0.001369</td>\n",
       "      <td>-0.876014</td>\n",
       "      <td>-0.250525</td>\n",
       "      <td>-0.898277</td>\n",
       "      <td>-0.920246</td>\n",
       "      <td>-0.405687</td>\n",
       "      <td>-0.881063</td>\n",
       "      <td>-1.071383</td>\n",
       "      <td>-0.103105</td>\n",
       "      <td>-0.812846</td>\n",
       "    </tr>\n",
       "    <tr>\n",
       "      <th>2018-03-01 21:00:00</th>\n",
       "      <td>66</td>\n",
       "      <td>0.0</td>\n",
       "      <td>-1.467057</td>\n",
       "      <td>-1.68422</td>\n",
       "      <td>-0.001369</td>\n",
       "      <td>-0.518871</td>\n",
       "      <td>-0.875915</td>\n",
       "      <td>-0.250041</td>\n",
       "      <td>-0.897884</td>\n",
       "      <td>-0.919914</td>\n",
       "      <td>-0.910443</td>\n",
       "      <td>-1.080886</td>\n",
       "      <td>0.407983</td>\n",
       "      <td>-0.880571</td>\n",
       "    </tr>\n",
       "  </tbody>\n",
       "</table>\n",
       "</div>"
      ],
      "text/plain": [
       "                     num_orders  año       mes      dia  dia_semana  \\\n",
       "datetime                                                              \n",
       "2018-03-01 12:00:00          30  0.0 -1.467057 -1.68422   -0.001369   \n",
       "2018-03-01 13:00:00          32  0.0 -1.467057 -1.68422   -0.001369   \n",
       "2018-03-01 14:00:00          48  0.0 -1.467057 -1.68422   -0.001369   \n",
       "2018-03-01 15:00:00          66  0.0 -1.467057 -1.68422   -0.001369   \n",
       "2018-03-01 16:00:00          43  0.0 -1.467057 -1.68422   -0.001369   \n",
       "2018-03-01 17:00:00          44  0.0 -1.467057 -1.68422   -0.001369   \n",
       "2018-03-01 18:00:00          73  0.0 -1.467057 -1.68422   -0.001369   \n",
       "2018-03-01 19:00:00          45  0.0 -1.467057 -1.68422   -0.001369   \n",
       "2018-03-01 20:00:00          61  0.0 -1.467057 -1.68422   -0.001369   \n",
       "2018-03-01 21:00:00          66  0.0 -1.467057 -1.68422   -0.001369   \n",
       "\n",
       "                     desfase_1  desfase_2  desfase_3  desfase_4  desfase_5  \\\n",
       "datetime                                                                     \n",
       "2018-03-01 12:00:00   0.262378  -0.451543  -0.339453  -1.121504  -1.545930   \n",
       "2018-03-01 13:00:00  -1.210835   0.263188  -0.451218  -0.338835  -1.121133   \n",
       "2018-03-01 14:00:00  -1.166192  -1.210945   0.264078  -0.450645  -0.338613   \n",
       "2018-03-01 15:00:00  -0.809050  -1.166274  -1.211219   0.264937  -0.450402   \n",
       "2018-03-01 16:00:00  -0.407264  -0.808909  -1.166513  -1.210951   0.265045   \n",
       "2018-03-01 17:00:00  -0.920657  -0.406872  -0.808865  -1.166227  -1.210564   \n",
       "2018-03-01 18:00:00  -0.898335  -0.920585  -0.406512  -0.808436  -1.165849   \n",
       "2018-03-01 19:00:00  -0.251014  -0.898250  -0.920630  -0.405921  -0.808125   \n",
       "2018-03-01 20:00:00  -0.876014  -0.250525  -0.898277  -0.920246  -0.405687   \n",
       "2018-03-01 21:00:00  -0.518871  -0.875915  -0.250041  -0.897884  -0.919914   \n",
       "\n",
       "                     media_movil  tendencia  estacionalidad  std_movil  \n",
       "datetime                                                                \n",
       "2018-03-01 12:00:00    -0.839932  -1.069800       -0.639361  -0.018929  \n",
       "2018-03-01 13:00:00    -0.751794  -1.069008       -0.510538  -0.018803  \n",
       "2018-03-01 14:00:00    -0.763546  -1.038124       -0.351449  -0.032459  \n",
       "2018-03-01 15:00:00    -0.886939  -1.036540        0.142689  -0.170123  \n",
       "2018-03-01 16:00:00    -0.875188  -1.056338        1.131931  -0.100586  \n",
       "2018-03-01 17:00:00    -1.186610  -1.070592        0.302827  -0.335716  \n",
       "2018-03-01 18:00:00    -1.104347  -1.067424       -0.593721  -1.103028  \n",
       "2018-03-01 19:00:00    -0.863436  -1.074551       -0.272401  -0.812846  \n",
       "2018-03-01 20:00:00    -0.881063  -1.071383       -0.103105  -0.812846  \n",
       "2018-03-01 21:00:00    -0.910443  -1.080886        0.407983  -0.880571  "
      ]
     },
     "execution_count": 23,
     "metadata": {},
     "output_type": "execute_result"
    }
   ],
   "source": [
    "#Estandarizado de datos\n",
    "caracteristicas_numericas = ['año', 'mes', 'dia', 'dia_semana', 'desfase_1', 'desfase_2', 'desfase_3', 'desfase_4', 'desfase_5', 'media_movil', 'tendencia', 'estacionalidad', 'std_movil']\n",
    "scaler = StandardScaler()\n",
    "data[caracteristicas_numericas] = scaler.fit_transform(data[caracteristicas_numericas])\n",
    "data.head(10)"
   ]
  },
  {
   "cell_type": "markdown",
   "metadata": {},
   "source": [
    "<div class=\"alert alert-block alert-success\">\n",
    "<b>Comentario del revisor</b> <a class=\"tocSkip\"></a>\n",
    "\n",
    "Perfecto, buen trabajo con el desarrollo de esta sección de formación de las características a incluir dentro de los modelos que se plantearán.  </div>\n"
   ]
  },
  {
   "cell_type": "markdown",
   "metadata": {},
   "source": [
    "Se estandarizaron las características numéricas, lo que ayuda a que los modelos funcionen mejor."
   ]
  },
  {
   "cell_type": "code",
   "execution_count": 24,
   "metadata": {},
   "outputs": [
    {
     "name": "stdout",
     "output_type": "stream",
     "text": [
      "2018-03-01 12:00:00 2018-08-13 03:00:00\n",
      "2018-08-13 04:00:00 2018-08-31 11:00:00\n"
     ]
    }
   ],
   "source": [
    "# Dividir el conjunto de datos en entrenamiento (90%) y prueba (10%)\n",
    "train, test = train_test_split(data, shuffle=False, test_size=0.1)\n",
    "print(train.index.min(), train.index.max())\n",
    "print(test.index.min(), test.index.max())\n"
   ]
  },
  {
   "cell_type": "markdown",
   "metadata": {},
   "source": [
    "Se dividio el conjunto de datos en un conjunto de entrenamiento (90%) y un conjunto de prueba (10%) para evaluar el rendimiento de los modelos."
   ]
  },
  {
   "cell_type": "code",
   "execution_count": 25,
   "metadata": {},
   "outputs": [
    {
     "name": "stdout",
     "output_type": "stream",
     "text": [
      "Dataset de entrenamiento data (3952, 13) (3952,)\n",
      "Dataset de prueba data (440, 13) (440,)\n"
     ]
    }
   ],
   "source": [
    "#Dividir el conjunto de datos de entrenamiento y prueba en características y objetivo \n",
    "features_train = train.drop(['num_orders'], axis=1)\n",
    "target_train = train['num_orders']\n",
    "features_test = test.drop(['num_orders'], axis=1)\n",
    "target_test = test['num_orders']\n",
    "print('Dataset de entrenamiento data', features_train.shape, target_train.shape)\n",
    "print('Dataset de prueba data', features_test.shape, target_test.shape)\n"
   ]
  },
  {
   "cell_type": "markdown",
   "metadata": {},
   "source": [
    "<div class=\"alert alert-block alert-success\">\n",
    "<b>Comentario del revisor</b> <a class=\"tocSkip\"></a>\n",
    "\n",
    "Buen trabajo con el split de los datos, aplicas de buena manera el uso del argumento ``shuffle`` teniendo en cuenta la naturaleza de los datos que se están trabajando. </div>"
   ]
  },
  {
   "cell_type": "markdown",
   "metadata": {},
   "source": [
    "Se dividieron el conjunto de entrenamiento y de prueba en caracteristicas y objetivo"
   ]
  },
  {
   "cell_type": "code",
   "execution_count": 26,
   "metadata": {},
   "outputs": [
    {
     "name": "stdout",
     "output_type": "stream",
     "text": [
      "RMSE del modelo de regresión lineal en el conjunto de prueba: 40.5986630289036\n"
     ]
    }
   ],
   "source": [
    "#Modelo de regresión lineal\n",
    "lr_model = LinearRegression()\n",
    "lr_model.fit(features_train, target_train)\n",
    "\n",
    "lr_predictions = lr_model.predict(features_test)\n",
    "lr_rmse = mean_squared_error(target_test, lr_predictions, squared=False)\n",
    "print(\"RMSE del modelo de regresión lineal en el conjunto de prueba:\", lr_rmse)"
   ]
  },
  {
   "cell_type": "markdown",
   "metadata": {},
   "source": [
    "<div class=\"alert alert-block alert-success\">\n",
    "<b>Comentario del revisor</b> <a class=\"tocSkip\"></a>\n",
    "\n",
    "Buen trabajo desplegando y testando el desempeño de la regresión logística.  </div>"
   ]
  },
  {
   "cell_type": "code",
   "execution_count": 27,
   "metadata": {},
   "outputs": [
    {
     "name": "stdout",
     "output_type": "stream",
     "text": [
      "RMSE del modelo de árbol de decisión en el conjunto de prueba: 50.08674293844448\n"
     ]
    }
   ],
   "source": [
    "#Modelo de árbol de decisión\n",
    "dt_model = DecisionTreeRegressor()\n",
    "dt_model.fit(features_train, target_train)\n",
    "\n",
    "dt_predictions = dt_model.predict(features_test)\n",
    "dt_rmse = mean_squared_error(target_test, dt_predictions, squared=False)\n",
    "print(\"RMSE del modelo de árbol de decisión en el conjunto de prueba:\", dt_rmse)"
   ]
  },
  {
   "cell_type": "code",
   "execution_count": 28,
   "metadata": {},
   "outputs": [
    {
     "name": "stdout",
     "output_type": "stream",
     "text": [
      "RMSE del modelo de árbol de decisión con ajuste de hiperparametros en el conjunto de prueba (max_depth = 6): 45.97123629408241\n"
     ]
    }
   ],
   "source": [
    "#Modelo de árbol de decisión con ajuste de Hiperparametros\n",
    "best_model = None\n",
    "best_rmse = float('inf')  # Inicializamos el mejor RMSE con un valor infinito\n",
    "best_depth = 0\n",
    "\n",
    "for depth in range(1, 11):  # Rango del hiperparámetro (profundidad del árbol)\n",
    "    model = DecisionTreeRegressor(random_state=12345, max_depth=depth)\n",
    "    model.fit(features_train, target_train)\n",
    "    predictions_test = model.predict(features_test)\n",
    "    rmse = mean_squared_error(target_test, predictions_test, squared=False)  # Calculamos el RMSE en el conjunto de prueba\n",
    "\n",
    "    if rmse < best_rmse:\n",
    "        best_model = model\n",
    "        best_rmse = rmse\n",
    "        best_depth = depth\n",
    "\n",
    "print(f\"RMSE del modelo de árbol de decisión con ajuste de hiperparametros en el conjunto de prueba (max_depth = {best_depth}): {best_rmse}\")"
   ]
  },
  {
   "cell_type": "markdown",
   "metadata": {},
   "source": [
    "<div class=\"alert alert-block alert-success\">\n",
    "<b>Comentario del revisor</b> <a class=\"tocSkip\"></a>\n",
    "\n",
    "Buen trabajo desplegando, optimizando vía hiperparámetros y testando el desempeño del arbol de decisión.  </div>"
   ]
  },
  {
   "cell_type": "code",
   "execution_count": 29,
   "metadata": {},
   "outputs": [
    {
     "name": "stdout",
     "output_type": "stream",
     "text": [
      "RMSE del modelo de bosque aleatorio en el conjunto de prueba: 38.50863070911389\n"
     ]
    }
   ],
   "source": [
    "#Modelo de bosque aleatorio de regresión\n",
    "rf_model = RandomForestRegressor()\n",
    "rf_model.fit(features_train, target_train)\n",
    "\n",
    "rf_predictions = rf_model.predict(features_test)\n",
    "rf_rmse = mean_squared_error(target_test, rf_predictions, squared=False)\n",
    "print(\"RMSE del modelo de bosque aleatorio en el conjunto de prueba:\", rf_rmse)"
   ]
  },
  {
   "cell_type": "code",
   "execution_count": 30,
   "metadata": {},
   "outputs": [
    {
     "name": "stdout",
     "output_type": "stream",
     "text": [
      "RMSE del modelo de bosque aleatorio con ajuste de hiperparametros en el conjunto de prueba: 37.51906603647297\n",
      "Número óptimo de estimadores (n_estimators): 20\n",
      "Profundidad óptima del árbol (max_depth): 10\n"
     ]
    }
   ],
   "source": [
    "#Modelo de bosque aleatorio de regresión con ajuste de Hiperparametros\n",
    "best_model = None\n",
    "best_rmse = float('inf')  # Inicializamos el mejor RMSE con un valor infinito\n",
    "best_est = 0\n",
    "best_depth = 0\n",
    "\n",
    "for est in range(10, 51, 10):  # Rango del número de árboles en el bosque\n",
    "    for depth in range(1, 11):  # Rango de la profundidad máxima del árbol\n",
    "        model = RandomForestRegressor(random_state=12345, n_estimators=est, max_depth=depth)\n",
    "        model.fit(features_train, target_train)\n",
    "        predictions_test = model.predict(features_test)\n",
    "        rmse = mean_squared_error(target_test, predictions_test, squared=False)  # Calculamos el RMSE en el conjunto de prueba\n",
    "\n",
    "        if rmse < best_rmse:\n",
    "            best_model = model\n",
    "            best_rmse = rmse\n",
    "            best_est = est\n",
    "            best_depth = depth\n",
    "\n",
    "print(\"RMSE del modelo de bosque aleatorio con ajuste de hiperparametros en el conjunto de prueba:\", best_rmse)\n",
    "print(\"Número óptimo de estimadores (n_estimators):\", best_est)\n",
    "print(\"Profundidad óptima del árbol (max_depth):\", best_depth)"
   ]
  },
  {
   "cell_type": "markdown",
   "metadata": {},
   "source": [
    "<div class=\"alert alert-block alert-success\">\n",
    "<b>Comentario del revisor</b> <a class=\"tocSkip\"></a>\n",
    "\n",
    "Buen trabajo desplegando, optimizando vía hiperparámetros y testando el desempeño del Random Forest.  </div>"
   ]
  },
  {
   "cell_type": "code",
   "execution_count": 31,
   "metadata": {},
   "outputs": [
    {
     "name": "stdout",
     "output_type": "stream",
     "text": [
      "RMSE del modelo de LightGBM en el conjunto de prueba: 37.7960052757872\n"
     ]
    }
   ],
   "source": [
    "#Modelo de LightGBM para regresión\n",
    "lgb_model = lgb.LGBMRegressor()\n",
    "lgb_model.fit(features_train, target_train)\n",
    "lgb_predictions = lgb_model.predict(features_test)\n",
    "lgb_rmse = mean_squared_error(target_test, lgb_predictions, squared=False)\n",
    "print(\"RMSE del modelo de LightGBM en el conjunto de prueba:\", lgb_rmse)"
   ]
  },
  {
   "cell_type": "code",
   "execution_count": 32,
   "metadata": {},
   "outputs": [
    {
     "name": "stdout",
     "output_type": "stream",
     "text": [
      "RMSE del modelo de LightGBM en el conjunto de prueba: 38.663988414700505\n"
     ]
    }
   ],
   "source": [
    "#Modelo de LightGBM para regresión con ajuste de hiperparámetros\n",
    "lgb_model = lgb.LGBMRegressor(n_estimators=50, max_depth=5, learning_rate=0.1, random_state=88)\n",
    "lgb_model.fit(features_train, target_train)\n",
    "lgb_predictions = lgb_model.predict(features_test)\n",
    "lgb_rmse = mean_squared_error(target_test, lgb_predictions, squared=False)\n",
    "print(\"RMSE del modelo de LightGBM en el conjunto de prueba:\", lgb_rmse)"
   ]
  },
  {
   "cell_type": "markdown",
   "metadata": {},
   "source": [
    "<div class=\"alert alert-block alert-success\">\n",
    "<b>Comentario del revisor</b> <a class=\"tocSkip\"></a>\n",
    "\n",
    "Buen trabajo desplegando, optimizando vía hiperparámetros y testando el desempeño del LightGBM.  </div>"
   ]
  },
  {
   "cell_type": "code",
   "execution_count": 33,
   "metadata": {},
   "outputs": [
    {
     "name": "stdout",
     "output_type": "stream",
     "text": [
      "Learning rate set to 0.050872\n",
      "0:\tlearn: 37.4974627\ttotal: 50.4ms\tremaining: 50.4s\n",
      "100:\tlearn: 20.1833223\ttotal: 409ms\tremaining: 3.64s\n",
      "200:\tlearn: 18.5884732\ttotal: 766ms\tremaining: 3.05s\n",
      "300:\tlearn: 17.2694228\ttotal: 1.13s\tremaining: 2.61s\n",
      "400:\tlearn: 16.1906587\ttotal: 1.48s\tremaining: 2.21s\n",
      "500:\tlearn: 15.3010141\ttotal: 1.86s\tremaining: 1.85s\n",
      "600:\tlearn: 14.5285343\ttotal: 2.24s\tremaining: 1.49s\n",
      "700:\tlearn: 13.8075598\ttotal: 2.61s\tremaining: 1.11s\n",
      "800:\tlearn: 13.1669691\ttotal: 2.98s\tremaining: 741ms\n",
      "900:\tlearn: 12.5616206\ttotal: 3.34s\tremaining: 367ms\n",
      "999:\tlearn: 11.9979522\ttotal: 3.71s\tremaining: 0us\n",
      "RMSE del modelo de CatBoost en el conjunto de prueba: 38.48096636357849\n"
     ]
    }
   ],
   "source": [
    "#Modelo de CatBoost para regresión \n",
    "cb_model = cb.CatBoostRegressor()\n",
    "cb_model.fit(features_train, target_train, verbose=100)\n",
    "cb_predictions = cb_model.predict(features_test)\n",
    "cb_rmse = mean_squared_error(target_test, cb_predictions, squared=False)\n",
    "print(\"RMSE del modelo de CatBoost en el conjunto de prueba:\", cb_rmse)"
   ]
  },
  {
   "cell_type": "code",
   "execution_count": 34,
   "metadata": {
    "scrolled": true
   },
   "outputs": [
    {
     "name": "stdout",
     "output_type": "stream",
     "text": [
      "0:\tlearn: 37.5770306\ttotal: 3.29ms\tremaining: 3.28s\n",
      "100:\tlearn: 20.6270739\ttotal: 254ms\tremaining: 2.26s\n",
      "200:\tlearn: 19.3381522\ttotal: 491ms\tremaining: 1.95s\n",
      "300:\tlearn: 18.2628127\ttotal: 736ms\tremaining: 1.71s\n",
      "400:\tlearn: 17.4027210\ttotal: 980ms\tremaining: 1.46s\n",
      "500:\tlearn: 16.6705492\ttotal: 1.24s\tremaining: 1.24s\n",
      "600:\tlearn: 15.9398929\ttotal: 1.49s\tremaining: 992ms\n",
      "700:\tlearn: 15.3329058\ttotal: 1.74s\tremaining: 743ms\n",
      "800:\tlearn: 14.7713964\ttotal: 1.99s\tremaining: 495ms\n",
      "900:\tlearn: 14.2943595\ttotal: 2.24s\tremaining: 247ms\n",
      "999:\tlearn: 13.8705582\ttotal: 2.5s\tremaining: 0us\n",
      "RMSE del modelo de CatBoost en el conjunto de prueba: 37.480613915089954\n"
     ]
    }
   ],
   "source": [
    "#Modelo de CatBoost para regresión con ajuste de hiperparámetros\n",
    "cb_model = cb.CatBoostRegressor(iterations=1000, depth=5, learning_rate=0.05, loss_function='RMSE', random_state=88)\n",
    "cb_model.fit(features_train, target_train, verbose=100)\n",
    "cb_predictions = cb_model.predict(features_test)\n",
    "cb_rmse = mean_squared_error(target_test, cb_predictions, squared=False)\n",
    "print(\"RMSE del modelo de CatBoost en el conjunto de prueba:\", cb_rmse)"
   ]
  },
  {
   "cell_type": "markdown",
   "metadata": {},
   "source": [
    "<div class=\"alert alert-block alert-success\">\n",
    "<b>Comentario del revisor</b> <a class=\"tocSkip\"></a>\n",
    "\n",
    "Buen trabajo desplegando, optimizando vía hiperparámetros y testando el desempeño del CarBo0st.  </div>"
   ]
  },
  {
   "cell_type": "markdown",
   "metadata": {},
   "source": [
    "Se entrenaron varios modelos de regresión, incluyendo regresión lineal, árbol de decisión, bosque aleatorio, LightGBM y CatBoost.\n",
    "- Se evalúo el rendimiento de cada modelo utilizando la raíz del error cuadrático medio (RMSE) en el conjunto de prueba.\n",
    "- Se realizo un ajuste de hiperparámetros para algunos modelos para encontrar el mejor modelo que minimice el RMSE.\n",
    "   "
   ]
  },
  {
   "cell_type": "code",
   "execution_count": 35,
   "metadata": {},
   "outputs": [
    {
     "name": "stdout",
     "output_type": "stream",
     "text": [
      "El mejor modelo es: CatBoost con ajuste de Hiperparámetros\n",
      "RMSE del modelo CatBoost con ajuste de Hiperparámetros en el conjunto de prueba es: 37.480613915089954\n"
     ]
    }
   ],
   "source": [
    "#Seleccionar el modelo con el menor RMSE en el conjunto de prueba\n",
    "resultados = {\n",
    "    \"Regresión Lineal\": 40.598663028903616,\n",
    "    \"Árbol de Decisión\": 51.31305433761028,\n",
    "    \"Arbol de Decsión con ajuste de Hiperparametros\": 45.97123629408241,\n",
    "    \"Bosque Aleatorio\": 38.73915790256675,\n",
    "    \"Bosque Aleatorio con ajuste de Hiperparametros\": 37.51906603647297,\n",
    "    \"LightGBM\": 37.7960052757872,\n",
    "    \"LightGBM con ajuste de Hiperparametros\": 38.663988414700505,\n",
    "    \"CatBoost\": 38.48096636357849,\n",
    "    \"CatBoost con ajuste de Hiperparámetros\": 37.480613915089954\n",
    "}\n",
    "\n",
    "mejor_modelo = min(resultados, key=resultados.get)\n",
    "mejor_rmse = resultados[mejor_modelo]\n",
    "\n",
    "print(\"El mejor modelo es:\", mejor_modelo)\n",
    "print(\"RMSE del modelo\", mejor_modelo, \"en el conjunto de prueba es:\", mejor_rmse)\n",
    "\n"
   ]
  },
  {
   "cell_type": "markdown",
   "metadata": {},
   "source": [
    " Se selecciono el modelo con el menor RMSE en el conjunto de prueba.\n"
   ]
  },
  {
   "cell_type": "markdown",
   "metadata": {},
   "source": [
    "En resumen, se realizaron los siguentes pasos:\n",
    "\n",
    "1. **Creación de Características del Calendario, Desfase y Media Móvil**\n",
    "\n",
    "2. **Agregar Características de Tendencia y Estacionalidad**\n",
    "\n",
    "3. **Agregar Característica de Desviación Estándar**\n",
    "\n",
    "4. **Eliminar Filas con Valores Nulos**\n",
    "\n",
    "5. **Estandarizado de Datos**\n",
    "\n",
    "6. **Dividir el Conjunto de Datos en Entrenamiento y Prueba**\n",
    "\n",
    "7. **Modelado y Evaluación de Diversos Modelos**\n",
    "   \n",
    "8. **Selección del Mejor Modelo**\n",
    "\n",
    "Se realizo un análisis y modelado de la serie temporal de datos historicos sobre pedidos de taxis, incluyendo la creación de características relevantes, la estandarización de datos, la división del conjunto de datos, el entrenamiento y evaluación de varios modelos de regresión, incluyendo regresión lineal, árbol de decisión, bosque aleatorio, LightGBM y CatBoost, realizando un ajuste de hiperparámetros para algunos modelos, se evalúo la calidad de cada modelo utilizando la raíz del error cuadrático medio (RMSE) en el conjunto de prueba encontrando los siguientes resultados:\n",
    "\n",
    "- Regresión Lineal: 40.598663028903616\n",
    "\n",
    "- Árbol de Decisión: 51.31305433761028\n",
    "\n",
    "- Arbol de Decsión con ajuste de Hiperparametros: 45.97123629408241\n",
    "\n",
    "- Bosque Aleatorio: 38.73915790256675\n",
    "\n",
    "- Bosque Aleatorio con ajuste de Hiperparametros: 37.51906603647297\n",
    "\n",
    "- LightGBM: 37.7960052757872\n",
    "\n",
    "- LightGBM con ajuste de Hiperparametros: 38.663988414700505\n",
    "\n",
    "- CatBoost: 38.48096636357849\n",
    "\n",
    "- CatBoost con ajuste de Hiperparámetros: 37.480613915089954\n",
    "\n",
    "Al final se hizo la selección del mejor modelo que fue el Modelo CatBoost con ajuste de Hiperparámetros con una metrica RMSE de 37.480613915089954 para la predicción de la cantidad de pedidos de taxis para la proxima hora."
   ]
  },
  {
   "cell_type": "markdown",
   "metadata": {},
   "source": [
    "<div class=\"alert alert-block alert-success\">\n",
    "<b>Comentario del revisor</b> <a class=\"tocSkip\"></a>\n",
    "\n",
    "Perfecto, muy buen trabajo con la comparativa de los resultados.  </div>"
   ]
  },
  {
   "cell_type": "markdown",
   "metadata": {},
   "source": [
    "## Prueba"
   ]
  },
  {
   "cell_type": "code",
   "execution_count": 36,
   "metadata": {},
   "outputs": [
    {
     "name": "stdout",
     "output_type": "stream",
     "text": [
      "El valor de la mediana en los valores objetivo en el conjunto de prueba es: 133.5\n",
      "RMSE utilizando la mediana del conjunto de entrenamiento como predicción es: 58.77410530620993\n",
      "RMSE del modelo CatBoost con ajuste de Hiperparámetros en el conjunto de prueba es: 37.480613915089954\n",
      "El modelo CatBoost con ajuste de Hiperparametros es mejor que la predicción mediana\n"
     ]
    }
   ],
   "source": [
    "# Calcular la mediana en el conjunto de prueba\n",
    "mediana = np.median(target_test)\n",
    "print('El valor de la mediana en los valores objetivo en el conjunto de prueba es:', mediana)\n",
    "\n",
    "# Crear una lista de predicciones donde cada valor es la mediana del conjunto de entrenamiento\n",
    "lista_pred_mediana = [mediana] * len(target_test)\n",
    "\n",
    "# Calcular el RMSE utilizando la predicción mediana del conjunto de entrenamiento en el conjunto de prueba\n",
    "rmse_mediana = mean_squared_error(target_test, lista_pred_mediana, squared=False)\n",
    "\n",
    "print(\"RMSE utilizando la mediana del conjunto de entrenamiento como predicción es:\", rmse_mediana)\n",
    "print(\"RMSE del modelo\", mejor_modelo, \"en el conjunto de prueba es:\", mejor_rmse)\n",
    "\n",
    "if mejor_rmse < rmse_mediana:\n",
    "    print(\"El modelo CatBoost con ajuste de Hiperparametros es mejor que la predicción mediana\")\n",
    "elif mejor_rmse == rmse_mediana:\n",
    "    print(\"El modelo CatBoost con ajuste de Hiperparametros tiene un rendimiento similar a la predicción mediana.\")\n",
    "else:\n",
    "    print(\"La predicción mediana del conjunto de entrenamiento es mejor que el modelo CatBoost con ajuste de Hiperparametros.\")"
   ]
  },
  {
   "cell_type": "markdown",
   "metadata": {},
   "source": [
    "<div class=\"alert alert-block alert-success\">\n",
    "<b>Comentario del revisor #2</b> <a class=\"tocSkip\"></a>\n",
    "\n",
    "Gracias por tener en cuenta el comentario, Jorge. Buen trabajo con el desarrollo de esta sección de prueba, así mismo interesante la lógica que desarrollas para establecer esa prueba de cordura con el valor de la mediana de la serie.  </div>"
   ]
  },
  {
   "cell_type": "markdown",
   "metadata": {},
   "source": [
    " Se realizo una prueba de cordura medainte el calculo de la mediana de los valores objetivo en el conjunto de prueba utilizando la función `np.median()` y se guardo en la variable `mediana`.  Se creo una lista de predicciones `lista_pred_mediana` donde cada valor es la mediana calculada. El resultado muestra que el modelo CatBoost con ajuste de hiperparámetros es mejor que la predicción mediana, ya que tiene un RMSE más bajo."
   ]
  },
  {
   "cell_type": "markdown",
   "metadata": {},
   "source": [
    "**CONCLUSIONES**\n",
    "\n",
    "1. **Preparación de datos:**\n",
    "   Se llevaron a cabo diversas etapas de preparación de datos, incluyendo la conversión de la columna 'datetime' en el índice del DataFrame, el remuestreo por hora de los datos y la creación de características relevantes como tendencias, estacionalidad y desviación estándar.\n",
    "\n",
    "2. **Análisis de tendencias y estacionalidad:**\n",
    "   Se observaron tendencias, estacionalidad y variabilidad en la serie temporal de órdenes de taxi, lo que proporciona información valiosa para la construcción de modelos predictivos.\n",
    "\n",
    "3. **Estandarización de datos y creación de caracteristicas:**\n",
    "   Se realizó la estandarización de datos para garantizar que todas las características tuvieran la misma escala, lo que es crucial para muchos algoritmos de aprendizaje automático, asi comola creación de caracteristicas para mejora del rendimiento del modelo .\n",
    "\n",
    "4. **Modelado y evaluación:**\n",
    "   Se evaluaron varios modelos de regresión, y se encontró que los modelos basados en árboles (Bosque Aleatorio, LightGBM, CatBoost) superaron en rendimiento a la regresión lineal y al árbol de decisión.\n",
    "\n",
    "5. **Selección del mejor modelo:**\n",
    "   Después de entrenar y evaluar varios modelos de regresión, se seleccionó el modelo CatBoost con ajuste de hiperparámetros como el mejor modelo debido a su menor RMSE de 37.480613915089954 en el conjunto de prueba.\n",
    "\n",
    "6. **Prueba de cordura:**\n",
    "   Se realizó una prueba de cordura calculando la mediana de los valores objetivo en el conjunto de entrenamiento y comparando su RMSE con el del modelo CatBoost. Se encontró que el modelo CatBoost superó significativamente la predicción mediana, lo que confirma la validez y el rendimiento del modelo seleccionado.\n"
   ]
  },
  {
   "cell_type": "markdown",
   "metadata": {},
   "source": [
    "<div class=\"alert alert-block alert-success\">\n",
    "<b>Comentario del revisor</b> <a class=\"tocSkip\"></a>\n",
    "\n",
    "Buen trabajo Jorge.  </div>"
   ]
  },
  {
   "cell_type": "markdown",
   "metadata": {},
   "source": [
    "# Lista de revisión"
   ]
  },
  {
   "cell_type": "markdown",
   "metadata": {},
   "source": [
    "- [x]  Jupyter Notebook está abierto.\n",
    "- [x]  El código no tiene errores\n",
    "- [x]  Las celdas con el código han sido colocadas en el orden de ejecución.\n",
    "- [x]  Los datos han sido descargados y preparados.\n",
    "- [x]  Se ha realizado el paso 2: los datos han sido analizados\n",
    "- [x]  Se entrenó el modelo y se seleccionaron los hiperparámetros\n",
    "- [x]  Se han evaluado los modelos. Se expuso una conclusión\n",
    "- [x] La *RECM* para el conjunto de prueba no es más de 48"
   ]
  }
 ],
 "metadata": {
  "ExecuteTimeLog": [
   {
    "duration": 1655,
    "start_time": "2024-05-27T19:49:52.240Z"
   },
   {
    "duration": 38,
    "start_time": "2024-05-27T19:49:53.900Z"
   },
   {
    "duration": 17,
    "start_time": "2024-05-27T19:49:53.940Z"
   },
   {
    "duration": 17,
    "start_time": "2024-05-27T19:49:53.962Z"
   },
   {
    "duration": 39,
    "start_time": "2024-05-27T19:49:53.984Z"
   },
   {
    "duration": 22,
    "start_time": "2024-05-27T19:49:54.026Z"
   },
   {
    "duration": 6,
    "start_time": "2024-05-27T19:49:54.051Z"
   },
   {
    "duration": 13,
    "start_time": "2024-05-27T19:49:54.060Z"
   },
   {
    "duration": 49,
    "start_time": "2024-05-27T19:49:54.076Z"
   },
   {
    "duration": 912,
    "start_time": "2024-05-27T19:49:54.128Z"
   },
   {
    "duration": 15,
    "start_time": "2024-05-27T19:49:55.044Z"
   },
   {
    "duration": 475,
    "start_time": "2024-05-27T19:49:55.061Z"
   },
   {
    "duration": 9,
    "start_time": "2024-05-27T19:49:55.539Z"
   },
   {
    "duration": 358,
    "start_time": "2024-05-27T19:49:55.556Z"
   },
   {
    "duration": 1115,
    "start_time": "2024-05-27T19:49:55.922Z"
   },
   {
    "duration": 12,
    "start_time": "2024-05-27T19:49:57.039Z"
   },
   {
    "duration": 434,
    "start_time": "2024-05-27T19:49:57.054Z"
   },
   {
    "duration": 12,
    "start_time": "2024-05-27T19:49:57.492Z"
   },
   {
    "duration": 37,
    "start_time": "2024-05-27T19:49:57.523Z"
   },
   {
    "duration": 59,
    "start_time": "2024-05-27T19:49:57.565Z"
   },
   {
    "duration": 36,
    "start_time": "2024-05-27T19:49:57.628Z"
   },
   {
    "duration": 52,
    "start_time": "2024-05-27T19:49:57.670Z"
   },
   {
    "duration": 80,
    "start_time": "2024-05-27T19:49:57.726Z"
   },
   {
    "duration": 13,
    "start_time": "2024-05-27T19:49:57.810Z"
   },
   {
    "duration": 8,
    "start_time": "2024-05-27T19:49:57.826Z"
   },
   {
    "duration": 21,
    "start_time": "2024-05-27T19:49:57.839Z"
   },
   {
    "duration": 189,
    "start_time": "2024-05-27T19:49:57.862Z"
   },
   {
    "duration": 260,
    "start_time": "2024-05-27T19:49:58.054Z"
   },
   {
    "duration": 3273,
    "start_time": "2024-05-27T19:49:58.324Z"
   },
   {
    "duration": 20440,
    "start_time": "2024-05-27T19:50:01.600Z"
   },
   {
    "duration": 397,
    "start_time": "2024-05-27T19:50:22.043Z"
   },
   {
    "duration": 194,
    "start_time": "2024-05-27T19:50:22.443Z"
   },
   {
    "duration": 4001,
    "start_time": "2024-05-27T19:50:22.639Z"
   },
   {
    "duration": 2672,
    "start_time": "2024-05-27T19:50:26.643Z"
   },
   {
    "duration": 8,
    "start_time": "2024-05-27T19:50:29.318Z"
   },
   {
    "duration": 9,
    "start_time": "2024-05-27T19:50:29.329Z"
   },
   {
    "duration": 1579,
    "start_time": "2024-05-27T19:57:01.377Z"
   },
   {
    "duration": 26,
    "start_time": "2024-05-27T19:57:02.960Z"
   },
   {
    "duration": 15,
    "start_time": "2024-05-27T19:57:02.988Z"
   },
   {
    "duration": 16,
    "start_time": "2024-05-27T19:57:03.024Z"
   },
   {
    "duration": 8,
    "start_time": "2024-05-27T19:57:03.044Z"
   },
   {
    "duration": 18,
    "start_time": "2024-05-27T19:57:03.055Z"
   },
   {
    "duration": 49,
    "start_time": "2024-05-27T19:57:03.077Z"
   },
   {
    "duration": 12,
    "start_time": "2024-05-27T19:57:03.129Z"
   },
   {
    "duration": 5,
    "start_time": "2024-05-27T19:57:03.144Z"
   },
   {
    "duration": 980,
    "start_time": "2024-05-27T19:57:03.152Z"
   },
   {
    "duration": 14,
    "start_time": "2024-05-27T19:57:04.135Z"
   },
   {
    "duration": 431,
    "start_time": "2024-05-27T19:57:04.152Z"
   },
   {
    "duration": 9,
    "start_time": "2024-05-27T19:57:04.587Z"
   },
   {
    "duration": 360,
    "start_time": "2024-05-27T19:57:04.603Z"
   },
   {
    "duration": 1098,
    "start_time": "2024-05-27T19:57:04.966Z"
   },
   {
    "duration": 13,
    "start_time": "2024-05-27T19:57:06.067Z"
   },
   {
    "duration": 409,
    "start_time": "2024-05-27T19:57:06.084Z"
   },
   {
    "duration": 10,
    "start_time": "2024-05-27T19:57:06.498Z"
   },
   {
    "duration": 37,
    "start_time": "2024-05-27T19:57:06.523Z"
   },
   {
    "duration": 28,
    "start_time": "2024-05-27T19:57:06.565Z"
   },
   {
    "duration": 49,
    "start_time": "2024-05-27T19:57:06.596Z"
   },
   {
    "duration": 20,
    "start_time": "2024-05-27T19:57:06.648Z"
   },
   {
    "duration": 93,
    "start_time": "2024-05-27T19:57:06.671Z"
   },
   {
    "duration": 9,
    "start_time": "2024-05-27T19:57:06.767Z"
   },
   {
    "duration": 8,
    "start_time": "2024-05-27T19:57:06.779Z"
   },
   {
    "duration": 15,
    "start_time": "2024-05-27T19:57:06.822Z"
   },
   {
    "duration": 198,
    "start_time": "2024-05-27T19:57:06.844Z"
   },
   {
    "duration": 258,
    "start_time": "2024-05-27T19:57:07.047Z"
   },
   {
    "duration": 3278,
    "start_time": "2024-05-27T19:57:07.308Z"
   },
   {
    "duration": 20470,
    "start_time": "2024-05-27T19:57:10.590Z"
   },
   {
    "duration": 563,
    "start_time": "2024-05-27T19:57:31.063Z"
   },
   {
    "duration": 194,
    "start_time": "2024-05-27T19:57:31.630Z"
   },
   {
    "duration": 3912,
    "start_time": "2024-05-27T19:57:31.827Z"
   },
   {
    "duration": 2676,
    "start_time": "2024-05-27T19:57:35.743Z"
   },
   {
    "duration": 7,
    "start_time": "2024-05-27T19:57:38.422Z"
   },
   {
    "duration": 10,
    "start_time": "2024-05-27T19:57:38.433Z"
   }
  ],
  "kernelspec": {
   "display_name": "Python 3 (ipykernel)",
   "language": "python",
   "name": "python3"
  },
  "language_info": {
   "codemirror_mode": {
    "name": "ipython",
    "version": 3
   },
   "file_extension": ".py",
   "mimetype": "text/x-python",
   "name": "python",
   "nbconvert_exporter": "python",
   "pygments_lexer": "ipython3",
   "version": "3.9.19"
  },
  "toc": {
   "base_numbering": 1,
   "nav_menu": {},
   "number_sections": true,
   "sideBar": true,
   "skip_h1_title": true,
   "title_cell": "Table of Contents",
   "title_sidebar": "Contents",
   "toc_cell": false,
   "toc_position": {},
   "toc_section_display": true,
   "toc_window_display": false
  }
 },
 "nbformat": 4,
 "nbformat_minor": 2
}
